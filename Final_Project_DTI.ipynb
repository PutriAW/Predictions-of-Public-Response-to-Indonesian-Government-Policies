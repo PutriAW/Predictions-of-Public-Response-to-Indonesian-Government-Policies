{
  "nbformat": 4,
  "nbformat_minor": 0,
  "metadata": {
    "colab": {
      "name": "Final Project DTI.ipynb",
      "provenance": [],
      "collapsed_sections": [],
      "include_colab_link": true
    },
    "kernelspec": {
      "display_name": "Python 3",
      "name": "python3"
    },
    "accelerator": "GPU"
  },
  "cells": [
    {
      "cell_type": "markdown",
      "metadata": {
        "id": "view-in-github",
        "colab_type": "text"
      },
      "source": [
        "<a href=\"https://colab.research.google.com/github/PutriAW/Predictions-of-Public-Response-to-Indonesian-Government-Policies/blob/main/Final_Project_DTI.ipynb\" target=\"_parent\"><img src=\"https://colab.research.google.com/assets/colab-badge.svg\" alt=\"Open In Colab\"/></a>"
      ]
    },
    {
      "cell_type": "markdown",
      "metadata": {
        "id": "L00PS-wR2_31"
      },
      "source": [
        "## **Predictions of Public Response to Indonesian Government Policies**\r\n",
        "Created By Kelompok 6\r\n",
        "- Ghinaa Zain Nabiilah \r\n",
        "- Meidy Tataluckta \r\n",
        "- Putri Apriyanti Windya \r\n",
        "- Rizky Nur Alfian\r\n"
      ]
    },
    {
      "cell_type": "markdown",
      "metadata": {
        "id": "mm865haO3byA"
      },
      "source": [
        "# **Dataset**\r\n",
        "\r\n",
        "---\r\n",
        " Dataset for this classification obtained from "
      ]
    },
    {
      "cell_type": "markdown",
      "metadata": {
        "id": "rJF-5BbR3n3s"
      },
      "source": [
        "# **Description**\r\n",
        "\r\n",
        "---\r\n",
        "Background :\r\n",
        "- 56% of Indonesians use Twitter\r\n",
        "- Can be a means of conveying opinions\r\n",
        "- Potential as a means of spreading hoaxes, hate speech and incitement to rejection through demonstrations in an unsavory manner\r\n",
        "\r\n",
        "Goals / solutions:\r\n",
        "\r\n",
        "It is necessary to develop a system that is able to classify a text including positive or negative opinions in order to reduce the potential for the spread of hoaxes, hate speech and incitement to activities that harm many parties."
      ]
    },
    {
      "cell_type": "markdown",
      "metadata": {
        "id": "0mq3h1K93ybk"
      },
      "source": [
        "# **Problem to Solve**\r\n",
        "\r\n",
        "---\r\n",
        "\r\n",
        "Do sentiment Analysis to know whether a twitter tweet contain agree or disagree opinion to indonesian government policies"
      ]
    },
    {
      "cell_type": "markdown",
      "metadata": {
        "id": "Bmctsj9-3_7D"
      },
      "source": [
        "# **Data Preparation**"
      ]
    },
    {
      "cell_type": "markdown",
      "metadata": {
        "id": "31D2eRDd4EW3"
      },
      "source": [
        "## **Data Exploration**"
      ]
    },
    {
      "cell_type": "markdown",
      "metadata": {
        "id": "Uwq2oBuM4KK2"
      },
      "source": [
        "**Import All Libraries that Needed for Data Preparation**"
      ]
    },
    {
      "cell_type": "code",
      "metadata": {
        "colab": {
          "base_uri": "https://localhost:8080/"
        },
        "id": "mvZLp9Ag4VAP",
        "outputId": "eb908f36-3238-4842-c1e5-e05647c40951"
      },
      "source": [
        "# install library for indonesian language stemming\r\n",
        "!pip install Sastrawi"
      ],
      "execution_count": 1,
      "outputs": [
        {
          "output_type": "stream",
          "text": [
            "Requirement already satisfied: Sastrawi in /usr/local/lib/python3.6/dist-packages (1.0.1)\n"
          ],
          "name": "stdout"
        }
      ]
    },
    {
      "cell_type": "code",
      "metadata": {
        "colab": {
          "base_uri": "https://localhost:8080/"
        },
        "id": "I_FjbjEJb11n",
        "outputId": "9abade47-6d0c-4b1e-a81f-acec91e18d1a"
      },
      "source": [
        "# Import Library\r\n",
        "# text preprocessing\r\n",
        "import pandas as pd\r\n",
        "import numpy as np\r\n",
        "import csv\r\n",
        "import requests\r\n",
        "import io\r\n",
        "import nltk\r\n",
        "nltk.download('punkt')\r\n",
        "nltk.download('stopwords')\r\n",
        "import re # regular expression\r\n",
        "from Sastrawi.Stemmer.StemmerFactory import StemmerFactory # stemming indonesian language\r\n",
        "from Sastrawi.StopWordRemover.StopWordRemoverFactory import StopWordRemoverFactory\r\n",
        "from nltk.corpus import stopwords\r\n",
        "from imblearn.over_sampling import SMOTE\r\n",
        "from tqdm import tqdm\r\n",
        "\r\n",
        "# Visualization\r\n",
        "import seaborn as sns\r\n",
        "import matplotlib.pyplot as plt\r\n",
        "\r\n",
        "# Vectorization and splitting\r\n",
        "from sklearn.feature_extraction.text import CountVectorizer # to create Bag of words\r\n",
        "from sklearn.feature_extraction.text import TfidfVectorizer # tfid Vector \r\n",
        "from sklearn.metrics import confusion_matrix, classification_report, accuracy_score # confussion matrix\r\n",
        "from sklearn.preprocessing import LabelEncoder # to convert classes to number \r\n",
        "from sklearn.model_selection import train_test_split  # for splitting data \r\n",
        "from sklearn.metrics import accuracy_score # to calculate accuracy\r\n",
        "from mlxtend.plotting import plot_confusion_matrix"
      ],
      "execution_count": 2,
      "outputs": [
        {
          "output_type": "stream",
          "text": [
            "[nltk_data] Downloading package punkt to /root/nltk_data...\n",
            "[nltk_data]   Package punkt is already up-to-date!\n",
            "[nltk_data] Downloading package stopwords to /root/nltk_data...\n",
            "[nltk_data]   Package stopwords is already up-to-date!\n"
          ],
          "name": "stdout"
        },
        {
          "output_type": "stream",
          "text": [
            "/usr/local/lib/python3.6/dist-packages/sklearn/externals/six.py:31: FutureWarning: The module is deprecated in version 0.21 and will be removed in version 0.23 since we've dropped support for Python 2.7. Please rely on the official version of six (https://pypi.org/project/six/).\n",
            "  \"(https://pypi.org/project/six/).\", FutureWarning)\n",
            "/usr/local/lib/python3.6/dist-packages/sklearn/utils/deprecation.py:144: FutureWarning: The sklearn.neighbors.base module is  deprecated in version 0.22 and will be removed in version 0.24. The corresponding classes / functions should instead be imported from sklearn.neighbors. Anything that cannot be imported from sklearn.neighbors is now part of the private API.\n",
            "  warnings.warn(message, FutureWarning)\n"
          ],
          "name": "stderr"
        }
      ]
    },
    {
      "cell_type": "code",
      "metadata": {
        "colab": {
          "base_uri": "https://localhost:8080/",
          "height": 402
        },
        "id": "ruHksToME5QO",
        "outputId": "7e20f5c4-c455-43f1-9eb9-d1c007b6a57e"
      },
      "source": [
        "# Get data from Github and import into dataframe\r\n",
        "data = pd.read_csv(\"https://raw.githubusercontent.com/PutriAW/Predictions-of-Public-Response-to-Indonesian-Government-Policies/main/Dataset/raw%20dataset.csv\")\r\n",
        "data"
      ],
      "execution_count": 100,
      "outputs": [
        {
          "output_type": "execute_result",
          "data": {
            "text/html": [
              "<div>\n",
              "<style scoped>\n",
              "    .dataframe tbody tr th:only-of-type {\n",
              "        vertical-align: middle;\n",
              "    }\n",
              "\n",
              "    .dataframe tbody tr th {\n",
              "        vertical-align: top;\n",
              "    }\n",
              "\n",
              "    .dataframe thead th {\n",
              "        text-align: right;\n",
              "    }\n",
              "</style>\n",
              "<table border=\"1\" class=\"dataframe\">\n",
              "  <thead>\n",
              "    <tr style=\"text-align: right;\">\n",
              "      <th></th>\n",
              "      <th>id_name</th>\n",
              "      <th>text</th>\n",
              "      <th>location</th>\n",
              "      <th>Label</th>\n",
              "    </tr>\n",
              "  </thead>\n",
              "  <tbody>\n",
              "    <tr>\n",
              "      <th>0</th>\n",
              "      <td>x1242096848401129473</td>\n",
              "      <td>disuntik vaksin emang sakit, tapi kalo ga mela...</td>\n",
              "      <td>Jakarta</td>\n",
              "      <td>Positif</td>\n",
              "    </tr>\n",
              "    <tr>\n",
              "      <th>1</th>\n",
              "      <td>x1217116132693311488</td>\n",
              "      <td>@MAIAsangJUARA Ciptain lagu saja kakak MAIA\\n\\...</td>\n",
              "      <td>Indonesia</td>\n",
              "      <td>Negatif</td>\n",
              "    </tr>\n",
              "    <tr>\n",
              "      <th>2</th>\n",
              "      <td>x79182387</td>\n",
              "      <td>@seeksixsuck SJW anti vaksin. Mereka lebih per...</td>\n",
              "      <td>DKI Jakarta, Indonesia</td>\n",
              "      <td>Negatif</td>\n",
              "    </tr>\n",
              "    <tr>\n",
              "      <th>3</th>\n",
              "      <td>x1095587722675159040</td>\n",
              "      <td>@LisaAmartatara3 Mak vaksin palsu Sibuk sendir...</td>\n",
              "      <td>NaN</td>\n",
              "      <td>Negatif</td>\n",
              "    </tr>\n",
              "    <tr>\n",
              "      <th>4</th>\n",
              "      <td>x62182882</td>\n",
              "      <td>@501Awani Ahli2 politik perlu diberi keutamaan...</td>\n",
              "      <td>Jakarta</td>\n",
              "      <td>Negatif</td>\n",
              "    </tr>\n",
              "    <tr>\n",
              "      <th>...</th>\n",
              "      <td>...</td>\n",
              "      <td>...</td>\n",
              "      <td>...</td>\n",
              "      <td>...</td>\n",
              "    </tr>\n",
              "    <tr>\n",
              "      <th>3083</th>\n",
              "      <td>x76037954</td>\n",
              "      <td>@memefess Tuhan tidak membuat mahluk jika tida...</td>\n",
              "      <td>Bandung, Indonesia</td>\n",
              "      <td>Positif</td>\n",
              "    </tr>\n",
              "    <tr>\n",
              "      <th>3084</th>\n",
              "      <td>x261157283</td>\n",
              "      <td>Itupun kalo efikasi dan efektivitasnya beneran...</td>\n",
              "      <td>Diwek, Indonesia</td>\n",
              "      <td>Positif</td>\n",
              "    </tr>\n",
              "    <tr>\n",
              "      <th>3085</th>\n",
              "      <td>x1158584108106125312</td>\n",
              "      <td>vaksin corona adalah VAKSIN TERCEPAT YANG DITE...</td>\n",
              "      <td>NaN</td>\n",
              "      <td>Positif</td>\n",
              "    </tr>\n",
              "    <tr>\n",
              "      <th>3086</th>\n",
              "      <td>x1158584108106125312</td>\n",
              "      <td>kata siapa ? KATA WHO, who sendiri bilang vaks...</td>\n",
              "      <td>NaN</td>\n",
              "      <td>Positif</td>\n",
              "    </tr>\n",
              "    <tr>\n",
              "      <th>3087</th>\n",
              "      <td>x220960575</td>\n",
              "      <td>Aku cinta vaksin</td>\n",
              "      <td>Tangerang - Jakarta Timur</td>\n",
              "      <td>Positif</td>\n",
              "    </tr>\n",
              "  </tbody>\n",
              "</table>\n",
              "<p>3088 rows × 4 columns</p>\n",
              "</div>"
            ],
            "text/plain": [
              "                   id_name  ...    Label\n",
              "0     x1242096848401129473  ...  Positif\n",
              "1     x1217116132693311488  ...  Negatif\n",
              "2                x79182387  ...  Negatif\n",
              "3     x1095587722675159040  ...  Negatif\n",
              "4                x62182882  ...  Negatif\n",
              "...                    ...  ...      ...\n",
              "3083             x76037954  ...  Positif\n",
              "3084            x261157283  ...  Positif\n",
              "3085  x1158584108106125312  ...  Positif\n",
              "3086  x1158584108106125312  ...  Positif\n",
              "3087            x220960575  ...  Positif\n",
              "\n",
              "[3088 rows x 4 columns]"
            ]
          },
          "metadata": {
            "tags": []
          },
          "execution_count": 100
        }
      ]
    },
    {
      "cell_type": "code",
      "metadata": {
        "colab": {
          "base_uri": "https://localhost:8080/",
          "height": 106
        },
        "id": "cyPKFV2B4tw8",
        "outputId": "a7241b08-ab97-4ae3-83bf-2a584f05d7b4"
      },
      "source": [
        "# Count Positif and Negatif label\r\n",
        "data.Label.value_counts().to_frame()"
      ],
      "execution_count": null,
      "outputs": [
        {
          "output_type": "execute_result",
          "data": {
            "text/html": [
              "<div>\n",
              "<style scoped>\n",
              "    .dataframe tbody tr th:only-of-type {\n",
              "        vertical-align: middle;\n",
              "    }\n",
              "\n",
              "    .dataframe tbody tr th {\n",
              "        vertical-align: top;\n",
              "    }\n",
              "\n",
              "    .dataframe thead th {\n",
              "        text-align: right;\n",
              "    }\n",
              "</style>\n",
              "<table border=\"1\" class=\"dataframe\">\n",
              "  <thead>\n",
              "    <tr style=\"text-align: right;\">\n",
              "      <th></th>\n",
              "      <th>Label</th>\n",
              "    </tr>\n",
              "  </thead>\n",
              "  <tbody>\n",
              "    <tr>\n",
              "      <th>Positif</th>\n",
              "      <td>1835</td>\n",
              "    </tr>\n",
              "    <tr>\n",
              "      <th>Negatif</th>\n",
              "      <td>1253</td>\n",
              "    </tr>\n",
              "  </tbody>\n",
              "</table>\n",
              "</div>"
            ],
            "text/plain": [
              "         Label\n",
              "Positif   1835\n",
              "Negatif   1253"
            ]
          },
          "metadata": {
            "tags": []
          },
          "execution_count": 4
        }
      ]
    },
    {
      "cell_type": "code",
      "metadata": {
        "colab": {
          "base_uri": "https://localhost:8080/"
        },
        "id": "FOjiKmoeGMGY",
        "outputId": "9a852e79-0aaa-4d12-c14e-c0b6df8a661b"
      },
      "source": [
        "data.isnull().sum()"
      ],
      "execution_count": null,
      "outputs": [
        {
          "output_type": "execute_result",
          "data": {
            "text/plain": [
              "id_name        0\n",
              "text           0\n",
              "location    1198\n",
              "Label          0\n",
              "dtype: int64"
            ]
          },
          "metadata": {
            "tags": []
          },
          "execution_count": 5
        }
      ]
    },
    {
      "cell_type": "code",
      "metadata": {
        "id": "VFI6vyE_Jz98"
      },
      "source": [
        "data = data.fillna(method=\"ffill\")\r\n",
        "data.isnull().sum()"
      ],
      "execution_count": null,
      "outputs": []
    },
    {
      "cell_type": "code",
      "metadata": {
        "colab": {
          "base_uri": "https://localhost:8080/",
          "height": 195
        },
        "id": "tREfBye_ZY3x",
        "outputId": "159ef29f-290b-4ff2-df78-2eb2832c59a9"
      },
      "source": [
        "data.head()"
      ],
      "execution_count": null,
      "outputs": [
        {
          "output_type": "execute_result",
          "data": {
            "text/html": [
              "<div>\n",
              "<style scoped>\n",
              "    .dataframe tbody tr th:only-of-type {\n",
              "        vertical-align: middle;\n",
              "    }\n",
              "\n",
              "    .dataframe tbody tr th {\n",
              "        vertical-align: top;\n",
              "    }\n",
              "\n",
              "    .dataframe thead th {\n",
              "        text-align: right;\n",
              "    }\n",
              "</style>\n",
              "<table border=\"1\" class=\"dataframe\">\n",
              "  <thead>\n",
              "    <tr style=\"text-align: right;\">\n",
              "      <th></th>\n",
              "      <th>id_name</th>\n",
              "      <th>text</th>\n",
              "      <th>location</th>\n",
              "      <th>Label</th>\n",
              "    </tr>\n",
              "  </thead>\n",
              "  <tbody>\n",
              "    <tr>\n",
              "      <th>0</th>\n",
              "      <td>x1242096848401129473</td>\n",
              "      <td>disuntik vaksin emang sakit, tapi kalo ga mela...</td>\n",
              "      <td>Jakarta</td>\n",
              "      <td>Positif</td>\n",
              "    </tr>\n",
              "    <tr>\n",
              "      <th>1</th>\n",
              "      <td>x1217116132693311488</td>\n",
              "      <td>@MAIAsangJUARA Ciptain lagu saja kakak MAIA\\n\\...</td>\n",
              "      <td>Indonesia</td>\n",
              "      <td>Negatif</td>\n",
              "    </tr>\n",
              "    <tr>\n",
              "      <th>2</th>\n",
              "      <td>x79182387</td>\n",
              "      <td>@seeksixsuck SJW anti vaksin. Mereka lebih per...</td>\n",
              "      <td>DKI Jakarta, Indonesia</td>\n",
              "      <td>Negatif</td>\n",
              "    </tr>\n",
              "    <tr>\n",
              "      <th>3</th>\n",
              "      <td>x1095587722675159040</td>\n",
              "      <td>@LisaAmartatara3 Mak vaksin palsu Sibuk sendir...</td>\n",
              "      <td>DKI Jakarta, Indonesia</td>\n",
              "      <td>Negatif</td>\n",
              "    </tr>\n",
              "    <tr>\n",
              "      <th>4</th>\n",
              "      <td>x62182882</td>\n",
              "      <td>@501Awani Ahli2 politik perlu diberi keutamaan...</td>\n",
              "      <td>Jakarta</td>\n",
              "      <td>Negatif</td>\n",
              "    </tr>\n",
              "  </tbody>\n",
              "</table>\n",
              "</div>"
            ],
            "text/plain": [
              "                id_name  ...    Label\n",
              "0  x1242096848401129473  ...  Positif\n",
              "1  x1217116132693311488  ...  Negatif\n",
              "2             x79182387  ...  Negatif\n",
              "3  x1095587722675159040  ...  Negatif\n",
              "4             x62182882  ...  Negatif\n",
              "\n",
              "[5 rows x 4 columns]"
            ]
          },
          "metadata": {
            "tags": []
          },
          "execution_count": 8
        }
      ]
    },
    {
      "cell_type": "markdown",
      "metadata": {
        "id": "S3KBvfJv5W3P"
      },
      "source": [
        "## **Text Cleaning**"
      ]
    },
    {
      "cell_type": "markdown",
      "metadata": {
        "id": "M9RhfI9T5X_m"
      },
      "source": [
        "**Case folding**"
      ]
    },
    {
      "cell_type": "code",
      "metadata": {
        "id": "Bu0IxL2yGqY1"
      },
      "source": [
        "def clean(data):\r\n",
        "  temp_tweet = []\r\n",
        "\r\n",
        "  for tw in data:\r\n",
        "    # removal of @name[mention]\r\n",
        "    tw = re.sub(r\"(?:\\@|https?\\://)\\S+\", \"\", tw)\r\n",
        "\r\n",
        "    # removal of links[https://blabala.com]\r\n",
        "    # tw = re.sub(r\"http[s]?://(?:[a-zA-Z]|[0-9]|[$-_@.&+]|[!*\\(\\),]|(?:%[0-9a-fA-F][0-9a-fA-F]))+\", \"\", tw)\r\n",
        "    tw = re.sub(r\"http\\S+\", \"\", tw)\r\n",
        "\r\n",
        "    # removal of new line\r\n",
        "    tw = re.sub('\\n', '', tw)\r\n",
        "\r\n",
        "    # removal of RT\r\n",
        "    tw = re.sub('RT', '', tw)\r\n",
        "\r\n",
        "    # removal of punctuations and numbers\r\n",
        "    tw = re.sub(\"[^a-zA-Z^']\", \" \", tw)\r\n",
        "    tw = re.sub(\" {2,}\", \" \", tw)\r\n",
        "\r\n",
        "    # remove leading and trailing whitespace\r\n",
        "    tw = tw.strip()\r\n",
        "\r\n",
        "    # remove whitespace with a single space\r\n",
        "    tw = re.sub(r'\\s+', ' ', tw)\r\n",
        "\r\n",
        "    # convert text to Lowercase\r\n",
        "    tw = tw.lower();\r\n",
        "    temp_tweet.append(tw)\r\n",
        "  return temp_tweet"
      ],
      "execution_count": 98,
      "outputs": []
    },
    {
      "cell_type": "code",
      "metadata": {
        "colab": {
          "base_uri": "https://localhost:8080/",
          "height": 195
        },
        "id": "2v0eOGjT8dzN",
        "outputId": "eeba1650-706a-42a7-816d-aad53fde9baf"
      },
      "source": [
        "data['Clean_text'] = clean(data['text'])\r\n",
        "data.head()"
      ],
      "execution_count": null,
      "outputs": [
        {
          "output_type": "execute_result",
          "data": {
            "text/html": [
              "<div>\n",
              "<style scoped>\n",
              "    .dataframe tbody tr th:only-of-type {\n",
              "        vertical-align: middle;\n",
              "    }\n",
              "\n",
              "    .dataframe tbody tr th {\n",
              "        vertical-align: top;\n",
              "    }\n",
              "\n",
              "    .dataframe thead th {\n",
              "        text-align: right;\n",
              "    }\n",
              "</style>\n",
              "<table border=\"1\" class=\"dataframe\">\n",
              "  <thead>\n",
              "    <tr style=\"text-align: right;\">\n",
              "      <th></th>\n",
              "      <th>id_name</th>\n",
              "      <th>text</th>\n",
              "      <th>location</th>\n",
              "      <th>Label</th>\n",
              "      <th>Clean_text</th>\n",
              "    </tr>\n",
              "  </thead>\n",
              "  <tbody>\n",
              "    <tr>\n",
              "      <th>0</th>\n",
              "      <td>x1242096848401129473</td>\n",
              "      <td>disuntik vaksin emang sakit, tapi kalo ga mela...</td>\n",
              "      <td>Jakarta</td>\n",
              "      <td>Positif</td>\n",
              "      <td>disuntik vaksin emang sakit tapi kalo ga melal...</td>\n",
              "    </tr>\n",
              "    <tr>\n",
              "      <th>1</th>\n",
              "      <td>x1217116132693311488</td>\n",
              "      <td>@MAIAsangJUARA Ciptain lagu saja kakak MAIA\\n\\...</td>\n",
              "      <td>Indonesia</td>\n",
              "      <td>Negatif</td>\n",
              "      <td>ciptain lagu saja kakak maiayg judul nya di va...</td>\n",
              "    </tr>\n",
              "    <tr>\n",
              "      <th>2</th>\n",
              "      <td>x79182387</td>\n",
              "      <td>@seeksixsuck SJW anti vaksin. Mereka lebih per...</td>\n",
              "      <td>DKI Jakarta, Indonesia</td>\n",
              "      <td>Negatif</td>\n",
              "      <td>sjw anti vaksin mereka lebih percaya madu</td>\n",
              "    </tr>\n",
              "    <tr>\n",
              "      <th>3</th>\n",
              "      <td>x1095587722675159040</td>\n",
              "      <td>@LisaAmartatara3 Mak vaksin palsu Sibuk sendir...</td>\n",
              "      <td>DKI Jakarta, Indonesia</td>\n",
              "      <td>Negatif</td>\n",
              "      <td>mak vaksin palsu sibuk sendiri kena prank u f ...</td>\n",
              "    </tr>\n",
              "    <tr>\n",
              "      <th>4</th>\n",
              "      <td>x62182882</td>\n",
              "      <td>@501Awani Ahli2 politik perlu diberi keutamaan...</td>\n",
              "      <td>Jakarta</td>\n",
              "      <td>Negatif</td>\n",
              "      <td>ahli politik perlu diberi keutamaan vaksin cov...</td>\n",
              "    </tr>\n",
              "  </tbody>\n",
              "</table>\n",
              "</div>"
            ],
            "text/plain": [
              "                id_name  ...                                         Clean_text\n",
              "0  x1242096848401129473  ...  disuntik vaksin emang sakit tapi kalo ga melal...\n",
              "1  x1217116132693311488  ...  ciptain lagu saja kakak maiayg judul nya di va...\n",
              "2             x79182387  ...          sjw anti vaksin mereka lebih percaya madu\n",
              "3  x1095587722675159040  ...  mak vaksin palsu sibuk sendiri kena prank u f ...\n",
              "4             x62182882  ...  ahli politik perlu diberi keutamaan vaksin cov...\n",
              "\n",
              "[5 rows x 5 columns]"
            ]
          },
          "metadata": {
            "tags": []
          },
          "execution_count": 10
        }
      ]
    },
    {
      "cell_type": "markdown",
      "metadata": {
        "id": "iJcEtDQ-9GWY"
      },
      "source": [
        "**Tokenizing**"
      ]
    },
    {
      "cell_type": "code",
      "metadata": {
        "id": "RnaKgJ2ZKMla"
      },
      "source": [
        "def token(data):\r\n",
        "  return data.apply(nltk.word_tokenize)"
      ],
      "execution_count": 3,
      "outputs": []
    },
    {
      "cell_type": "code",
      "metadata": {
        "colab": {
          "base_uri": "https://localhost:8080/",
          "height": 195
        },
        "id": "9tOBUizVKNfq",
        "outputId": "e1d28510-dff5-4d0b-cd9f-03ff154650f0"
      },
      "source": [
        "data['Clean_text'] = token(data['Clean_text'])\r\n",
        "data.head()"
      ],
      "execution_count": null,
      "outputs": [
        {
          "output_type": "execute_result",
          "data": {
            "text/html": [
              "<div>\n",
              "<style scoped>\n",
              "    .dataframe tbody tr th:only-of-type {\n",
              "        vertical-align: middle;\n",
              "    }\n",
              "\n",
              "    .dataframe tbody tr th {\n",
              "        vertical-align: top;\n",
              "    }\n",
              "\n",
              "    .dataframe thead th {\n",
              "        text-align: right;\n",
              "    }\n",
              "</style>\n",
              "<table border=\"1\" class=\"dataframe\">\n",
              "  <thead>\n",
              "    <tr style=\"text-align: right;\">\n",
              "      <th></th>\n",
              "      <th>id_name</th>\n",
              "      <th>text</th>\n",
              "      <th>location</th>\n",
              "      <th>Label</th>\n",
              "      <th>Clean_text</th>\n",
              "    </tr>\n",
              "  </thead>\n",
              "  <tbody>\n",
              "    <tr>\n",
              "      <th>0</th>\n",
              "      <td>x1242096848401129473</td>\n",
              "      <td>disuntik vaksin emang sakit, tapi kalo ga mela...</td>\n",
              "      <td>Jakarta</td>\n",
              "      <td>Positif</td>\n",
              "      <td>[disuntik, vaksin, emang, sakit, tapi, kalo, g...</td>\n",
              "    </tr>\n",
              "    <tr>\n",
              "      <th>1</th>\n",
              "      <td>x1217116132693311488</td>\n",
              "      <td>@MAIAsangJUARA Ciptain lagu saja kakak MAIA\\n\\...</td>\n",
              "      <td>Indonesia</td>\n",
              "      <td>Negatif</td>\n",
              "      <td>[ciptain, lagu, saja, kakak, maiayg, judul, ny...</td>\n",
              "    </tr>\n",
              "    <tr>\n",
              "      <th>2</th>\n",
              "      <td>x79182387</td>\n",
              "      <td>@seeksixsuck SJW anti vaksin. Mereka lebih per...</td>\n",
              "      <td>DKI Jakarta, Indonesia</td>\n",
              "      <td>Negatif</td>\n",
              "      <td>[sjw, anti, vaksin, mereka, lebih, percaya, madu]</td>\n",
              "    </tr>\n",
              "    <tr>\n",
              "      <th>3</th>\n",
              "      <td>x1095587722675159040</td>\n",
              "      <td>@LisaAmartatara3 Mak vaksin palsu Sibuk sendir...</td>\n",
              "      <td>DKI Jakarta, Indonesia</td>\n",
              "      <td>Negatif</td>\n",
              "      <td>[mak, vaksin, palsu, sibuk, sendiri, kena, pra...</td>\n",
              "    </tr>\n",
              "    <tr>\n",
              "      <th>4</th>\n",
              "      <td>x62182882</td>\n",
              "      <td>@501Awani Ahli2 politik perlu diberi keutamaan...</td>\n",
              "      <td>Jakarta</td>\n",
              "      <td>Negatif</td>\n",
              "      <td>[ahli, politik, perlu, diberi, keutamaan, vaks...</td>\n",
              "    </tr>\n",
              "  </tbody>\n",
              "</table>\n",
              "</div>"
            ],
            "text/plain": [
              "                id_name  ...                                         Clean_text\n",
              "0  x1242096848401129473  ...  [disuntik, vaksin, emang, sakit, tapi, kalo, g...\n",
              "1  x1217116132693311488  ...  [ciptain, lagu, saja, kakak, maiayg, judul, ny...\n",
              "2             x79182387  ...  [sjw, anti, vaksin, mereka, lebih, percaya, madu]\n",
              "3  x1095587722675159040  ...  [mak, vaksin, palsu, sibuk, sendiri, kena, pra...\n",
              "4             x62182882  ...  [ahli, politik, perlu, diberi, keutamaan, vaks...\n",
              "\n",
              "[5 rows x 5 columns]"
            ]
          },
          "metadata": {
            "tags": []
          },
          "execution_count": 12
        }
      ]
    },
    {
      "cell_type": "markdown",
      "metadata": {
        "id": "HbAsd01E9Sl4"
      },
      "source": [
        "**Stop Word Removal**"
      ]
    },
    {
      "cell_type": "code",
      "metadata": {
        "id": "FWdqUisqLNip"
      },
      "source": [
        "def stop_words(data) :\r\n",
        "  stop_words = set(stopwords.words('indonesian'))\r\n",
        "  return data.apply(lambda x: [item for item in x if item not in stop_words])"
      ],
      "execution_count": 4,
      "outputs": []
    },
    {
      "cell_type": "code",
      "metadata": {
        "id": "2135IJPELPxU",
        "colab": {
          "base_uri": "https://localhost:8080/",
          "height": 195
        },
        "outputId": "ff51280d-c5f9-42c3-b4a2-a973fd59084f"
      },
      "source": [
        "data['Clean_text'] = stop_words(data['Clean_text'])\r\n",
        "data.head()"
      ],
      "execution_count": null,
      "outputs": [
        {
          "output_type": "execute_result",
          "data": {
            "text/html": [
              "<div>\n",
              "<style scoped>\n",
              "    .dataframe tbody tr th:only-of-type {\n",
              "        vertical-align: middle;\n",
              "    }\n",
              "\n",
              "    .dataframe tbody tr th {\n",
              "        vertical-align: top;\n",
              "    }\n",
              "\n",
              "    .dataframe thead th {\n",
              "        text-align: right;\n",
              "    }\n",
              "</style>\n",
              "<table border=\"1\" class=\"dataframe\">\n",
              "  <thead>\n",
              "    <tr style=\"text-align: right;\">\n",
              "      <th></th>\n",
              "      <th>id_name</th>\n",
              "      <th>text</th>\n",
              "      <th>location</th>\n",
              "      <th>Label</th>\n",
              "      <th>Clean_text</th>\n",
              "    </tr>\n",
              "  </thead>\n",
              "  <tbody>\n",
              "    <tr>\n",
              "      <th>0</th>\n",
              "      <td>x1242096848401129473</td>\n",
              "      <td>disuntik vaksin emang sakit, tapi kalo ga mela...</td>\n",
              "      <td>Jakarta</td>\n",
              "      <td>Positif</td>\n",
              "      <td>[disuntik, vaksin, emang, sakit, kalo, ga, pro...</td>\n",
              "    </tr>\n",
              "    <tr>\n",
              "      <th>1</th>\n",
              "      <td>x1217116132693311488</td>\n",
              "      <td>@MAIAsangJUARA Ciptain lagu saja kakak MAIA\\n\\...</td>\n",
              "      <td>Indonesia</td>\n",
              "      <td>Negatif</td>\n",
              "      <td>[ciptain, lagu, kakak, maiayg, judul, nya, vak...</td>\n",
              "    </tr>\n",
              "    <tr>\n",
              "      <th>2</th>\n",
              "      <td>x79182387</td>\n",
              "      <td>@seeksixsuck SJW anti vaksin. Mereka lebih per...</td>\n",
              "      <td>DKI Jakarta, Indonesia</td>\n",
              "      <td>Negatif</td>\n",
              "      <td>[sjw, anti, vaksin, percaya, madu]</td>\n",
              "    </tr>\n",
              "    <tr>\n",
              "      <th>3</th>\n",
              "      <td>x1095587722675159040</td>\n",
              "      <td>@LisaAmartatara3 Mak vaksin palsu Sibuk sendir...</td>\n",
              "      <td>DKI Jakarta, Indonesia</td>\n",
              "      <td>Negatif</td>\n",
              "      <td>[mak, vaksin, palsu, sibuk, kena, prank, u, f,...</td>\n",
              "    </tr>\n",
              "    <tr>\n",
              "      <th>4</th>\n",
              "      <td>x62182882</td>\n",
              "      <td>@501Awani Ahli2 politik perlu diberi keutamaan...</td>\n",
              "      <td>Jakarta</td>\n",
              "      <td>Negatif</td>\n",
              "      <td>[ahli, politik, keutamaan, vaksin, covid, pakar]</td>\n",
              "    </tr>\n",
              "  </tbody>\n",
              "</table>\n",
              "</div>"
            ],
            "text/plain": [
              "                id_name  ...                                         Clean_text\n",
              "0  x1242096848401129473  ...  [disuntik, vaksin, emang, sakit, kalo, ga, pro...\n",
              "1  x1217116132693311488  ...  [ciptain, lagu, kakak, maiayg, judul, nya, vak...\n",
              "2             x79182387  ...                 [sjw, anti, vaksin, percaya, madu]\n",
              "3  x1095587722675159040  ...  [mak, vaksin, palsu, sibuk, kena, prank, u, f,...\n",
              "4             x62182882  ...   [ahli, politik, keutamaan, vaksin, covid, pakar]\n",
              "\n",
              "[5 rows x 5 columns]"
            ]
          },
          "metadata": {
            "tags": []
          },
          "execution_count": 14
        }
      ]
    },
    {
      "cell_type": "markdown",
      "metadata": {
        "id": "DG37Udgn_DRE"
      },
      "source": [
        "**Stemming**"
      ]
    },
    {
      "cell_type": "code",
      "metadata": {
        "colab": {
          "base_uri": "https://localhost:8080/",
          "height": 195
        },
        "id": "EqFP3WunCEWv",
        "outputId": "387b3501-28a6-4bf9-f8d7-7213891e4e54"
      },
      "source": [
        "data['Clean_text'] = data['Clean_text'].apply(lambda x: \" \".join(x) if isinstance(x, list) else x)\r\n",
        "data.head()"
      ],
      "execution_count": null,
      "outputs": [
        {
          "output_type": "execute_result",
          "data": {
            "text/html": [
              "<div>\n",
              "<style scoped>\n",
              "    .dataframe tbody tr th:only-of-type {\n",
              "        vertical-align: middle;\n",
              "    }\n",
              "\n",
              "    .dataframe tbody tr th {\n",
              "        vertical-align: top;\n",
              "    }\n",
              "\n",
              "    .dataframe thead th {\n",
              "        text-align: right;\n",
              "    }\n",
              "</style>\n",
              "<table border=\"1\" class=\"dataframe\">\n",
              "  <thead>\n",
              "    <tr style=\"text-align: right;\">\n",
              "      <th></th>\n",
              "      <th>id_name</th>\n",
              "      <th>text</th>\n",
              "      <th>location</th>\n",
              "      <th>Label</th>\n",
              "      <th>Clean_text</th>\n",
              "    </tr>\n",
              "  </thead>\n",
              "  <tbody>\n",
              "    <tr>\n",
              "      <th>0</th>\n",
              "      <td>x1242096848401129473</td>\n",
              "      <td>disuntik vaksin emang sakit, tapi kalo ga mela...</td>\n",
              "      <td>Jakarta</td>\n",
              "      <td>Positif</td>\n",
              "      <td>disuntik vaksin emang sakit kalo ga proses sun...</td>\n",
              "    </tr>\n",
              "    <tr>\n",
              "      <th>1</th>\n",
              "      <td>x1217116132693311488</td>\n",
              "      <td>@MAIAsangJUARA Ciptain lagu saja kakak MAIA\\n\\...</td>\n",
              "      <td>Indonesia</td>\n",
              "      <td>Negatif</td>\n",
              "      <td>ciptain lagu kakak maiayg judul nya vaksin tid...</td>\n",
              "    </tr>\n",
              "    <tr>\n",
              "      <th>2</th>\n",
              "      <td>x79182387</td>\n",
              "      <td>@seeksixsuck SJW anti vaksin. Mereka lebih per...</td>\n",
              "      <td>DKI Jakarta, Indonesia</td>\n",
              "      <td>Negatif</td>\n",
              "      <td>sjw anti vaksin percaya madu</td>\n",
              "    </tr>\n",
              "    <tr>\n",
              "      <th>3</th>\n",
              "      <td>x1095587722675159040</td>\n",
              "      <td>@LisaAmartatara3 Mak vaksin palsu Sibuk sendir...</td>\n",
              "      <td>DKI Jakarta, Indonesia</td>\n",
              "      <td>Negatif</td>\n",
              "      <td>mak vaksin palsu sibuk kena prank u f u f u f</td>\n",
              "    </tr>\n",
              "    <tr>\n",
              "      <th>4</th>\n",
              "      <td>x62182882</td>\n",
              "      <td>@501Awani Ahli2 politik perlu diberi keutamaan...</td>\n",
              "      <td>Jakarta</td>\n",
              "      <td>Negatif</td>\n",
              "      <td>ahli politik keutamaan vaksin covid pakar</td>\n",
              "    </tr>\n",
              "  </tbody>\n",
              "</table>\n",
              "</div>"
            ],
            "text/plain": [
              "                id_name  ...                                         Clean_text\n",
              "0  x1242096848401129473  ...  disuntik vaksin emang sakit kalo ga proses sun...\n",
              "1  x1217116132693311488  ...  ciptain lagu kakak maiayg judul nya vaksin tid...\n",
              "2             x79182387  ...                       sjw anti vaksin percaya madu\n",
              "3  x1095587722675159040  ...      mak vaksin palsu sibuk kena prank u f u f u f\n",
              "4             x62182882  ...          ahli politik keutamaan vaksin covid pakar\n",
              "\n",
              "[5 rows x 5 columns]"
            ]
          },
          "metadata": {
            "tags": []
          },
          "execution_count": 15
        }
      ]
    },
    {
      "cell_type": "code",
      "metadata": {
        "id": "DCW4XuOn_IJz"
      },
      "source": [
        "factory = StemmerFactory()\r\n",
        "stemmer = factory.create_stemmer()\r\n",
        "\r\n",
        "def stem(data) :\r\n",
        "    hasil = stemmer.stem(data)\r\n",
        "    return hasil"
      ],
      "execution_count": 5,
      "outputs": []
    },
    {
      "cell_type": "code",
      "metadata": {
        "id": "7kHpZXVgqsJB"
      },
      "source": [
        "data['Clean_text'] = data.apply(lambda row : stem(row['Clean_text']), axis = 1)"
      ],
      "execution_count": null,
      "outputs": []
    },
    {
      "cell_type": "markdown",
      "metadata": {
        "id": "nIPavD6kPlJf"
      },
      "source": [
        "**Slang Removal**"
      ]
    },
    {
      "cell_type": "code",
      "metadata": {
        "id": "uh_QteqmYji4"
      },
      "source": [
        "slang_word = requests.get('https://raw.githubusercontent.com/louisowen6/NLP_bahasa_resources/master/combined_slang_words.txt').text\r\n",
        "dict_slang = eval(slang_word)\r\n",
        "\r\n",
        "df_acronym = pd.read_csv('https://raw.githubusercontent.com/ramaprakoso/analisis-sentimen/master/kamus/acronym.txt', header=None, sep='=')\r\n",
        "df_acronym.columns = ['Singkatan', 'kepanjangan']\r\n",
        "df_acronym.kepanjangan = df_acronym.kepanjangan.apply(lambda x: x.strip().lower())\r\n",
        "df_acronym.Singkatan = df_acronym.Singkatan.apply(lambda x: x.strip().lower())\r\n",
        "dict_singkatan = pd.Series(df_acronym.kepanjangan.values,index=df_acronym.Singkatan).to_dict()\r\n",
        "\r\n",
        "dict_clean = {**dict_singkatan, **dict_slang}"
      ],
      "execution_count": 6,
      "outputs": []
    },
    {
      "cell_type": "code",
      "metadata": {
        "id": "N4GBFNvlYmXB"
      },
      "source": [
        "def preprocessing_slang_singkatan(text, dict_clean=dict_clean):\r\n",
        "  regex = r\"\\b(?:\"+\"|\".join(re.escape(word) for word in dict_clean) + r\")\\b\"\r\n",
        "  reobj = re.compile(regex, re.I)\r\n",
        "  \r\n",
        "  return reobj.sub(lambda x:dict_clean[x.group(0)], text)"
      ],
      "execution_count": 7,
      "outputs": []
    },
    {
      "cell_type": "code",
      "metadata": {
        "id": "JwTS03GQey-Z"
      },
      "source": [
        "def clean_all(x, dict_clean=dict_clean):\r\n",
        "  x = preprocessing_slang_singkatan(x, dict_clean=dict_clean)\r\n",
        "  return x"
      ],
      "execution_count": 8,
      "outputs": []
    },
    {
      "cell_type": "code",
      "metadata": {
        "id": "wgD2nYeWfWTC"
      },
      "source": [
        "tqdm.pandas()"
      ],
      "execution_count": null,
      "outputs": []
    },
    {
      "cell_type": "code",
      "metadata": {
        "id": "BKTn56b1Y39P",
        "colab": {
          "base_uri": "https://localhost:8080/"
        },
        "outputId": "c19670e7-0332-4cf1-967c-0956ef2353c7"
      },
      "source": [
        "data['Clean_text'] = data.Clean_text.progress_apply(lambda x: clean_all(x, dict_clean=dict_clean))"
      ],
      "execution_count": null,
      "outputs": [
        {
          "output_type": "stream",
          "text": [
            "100%|██████████| 3088/3088 [00:18<00:00, 169.38it/s]\n"
          ],
          "name": "stderr"
        }
      ]
    },
    {
      "cell_type": "code",
      "metadata": {
        "id": "74JV08w1I9Jk",
        "colab": {
          "base_uri": "https://localhost:8080/",
          "height": 402
        },
        "outputId": "7b5fff97-de6c-418f-e480-363d48888ad4"
      },
      "source": [
        "# Select Only Text Column\r\n",
        "data1 = data[['Clean_text']]\r\n",
        "data1"
      ],
      "execution_count": null,
      "outputs": [
        {
          "output_type": "execute_result",
          "data": {
            "text/html": [
              "<div>\n",
              "<style scoped>\n",
              "    .dataframe tbody tr th:only-of-type {\n",
              "        vertical-align: middle;\n",
              "    }\n",
              "\n",
              "    .dataframe tbody tr th {\n",
              "        vertical-align: top;\n",
              "    }\n",
              "\n",
              "    .dataframe thead th {\n",
              "        text-align: right;\n",
              "    }\n",
              "</style>\n",
              "<table border=\"1\" class=\"dataframe\">\n",
              "  <thead>\n",
              "    <tr style=\"text-align: right;\">\n",
              "      <th></th>\n",
              "      <th>Clean_text</th>\n",
              "    </tr>\n",
              "  </thead>\n",
              "  <tbody>\n",
              "    <tr>\n",
              "      <th>0</th>\n",
              "      <td>suntik vaksin emang sakit kalau nggak proses s...</td>\n",
              "    </tr>\n",
              "    <tr>\n",
              "      <th>1</th>\n",
              "      <td>ciptain lagu kakak maiayg judul nya vaksin tid...</td>\n",
              "    </tr>\n",
              "    <tr>\n",
              "      <th>2</th>\n",
              "      <td>sjw anti vaksin percaya madu</td>\n",
              "    </tr>\n",
              "    <tr>\n",
              "      <th>3</th>\n",
              "      <td>ibu vaksin palsu sibuk kena prank kamu fahrenh...</td>\n",
              "    </tr>\n",
              "    <tr>\n",
              "      <th>4</th>\n",
              "      <td>ahli politik utama vaksin covid pakar</td>\n",
              "    </tr>\n",
              "    <tr>\n",
              "      <th>...</th>\n",
              "      <td>...</td>\n",
              "    </tr>\n",
              "    <tr>\n",
              "      <th>3083</th>\n",
              "      <td>tuhan mahluk guna bahan utama vaksin anti corona</td>\n",
              "    </tr>\n",
              "    <tr>\n",
              "      <th>3084</th>\n",
              "      <td>international telecommunication union kalau ef...</td>\n",
              "    </tr>\n",
              "    <tr>\n",
              "      <th>3085</th>\n",
              "      <td>vaksin corona vaksin cepat temu sejarah dunia ...</td>\n",
              "    </tr>\n",
              "    <tr>\n",
              "      <th>3086</th>\n",
              "      <td>world health organization world health organiz...</td>\n",
              "    </tr>\n",
              "    <tr>\n",
              "      <th>3087</th>\n",
              "      <td>cinta vaksin</td>\n",
              "    </tr>\n",
              "  </tbody>\n",
              "</table>\n",
              "<p>3088 rows × 1 columns</p>\n",
              "</div>"
            ],
            "text/plain": [
              "                                             Clean_text\n",
              "0     suntik vaksin emang sakit kalau nggak proses s...\n",
              "1     ciptain lagu kakak maiayg judul nya vaksin tid...\n",
              "2                          sjw anti vaksin percaya madu\n",
              "3     ibu vaksin palsu sibuk kena prank kamu fahrenh...\n",
              "4                 ahli politik utama vaksin covid pakar\n",
              "...                                                 ...\n",
              "3083   tuhan mahluk guna bahan utama vaksin anti corona\n",
              "3084  international telecommunication union kalau ef...\n",
              "3085  vaksin corona vaksin cepat temu sejarah dunia ...\n",
              "3086  world health organization world health organiz...\n",
              "3087                                       cinta vaksin\n",
              "\n",
              "[3088 rows x 1 columns]"
            ]
          },
          "metadata": {
            "tags": []
          },
          "execution_count": 22
        }
      ]
    },
    {
      "cell_type": "code",
      "metadata": {
        "id": "x1ognBoJJj_y",
        "colab": {
          "base_uri": "https://localhost:8080/",
          "height": 402
        },
        "outputId": "a8a51e50-843b-4f38-bf45-5092741490df"
      },
      "source": [
        "# Select Only Label Column\r\n",
        "data2 = data[['Label']]\r\n",
        "data2"
      ],
      "execution_count": null,
      "outputs": [
        {
          "output_type": "execute_result",
          "data": {
            "text/html": [
              "<div>\n",
              "<style scoped>\n",
              "    .dataframe tbody tr th:only-of-type {\n",
              "        vertical-align: middle;\n",
              "    }\n",
              "\n",
              "    .dataframe tbody tr th {\n",
              "        vertical-align: top;\n",
              "    }\n",
              "\n",
              "    .dataframe thead th {\n",
              "        text-align: right;\n",
              "    }\n",
              "</style>\n",
              "<table border=\"1\" class=\"dataframe\">\n",
              "  <thead>\n",
              "    <tr style=\"text-align: right;\">\n",
              "      <th></th>\n",
              "      <th>Label</th>\n",
              "    </tr>\n",
              "  </thead>\n",
              "  <tbody>\n",
              "    <tr>\n",
              "      <th>0</th>\n",
              "      <td>Positif</td>\n",
              "    </tr>\n",
              "    <tr>\n",
              "      <th>1</th>\n",
              "      <td>Negatif</td>\n",
              "    </tr>\n",
              "    <tr>\n",
              "      <th>2</th>\n",
              "      <td>Negatif</td>\n",
              "    </tr>\n",
              "    <tr>\n",
              "      <th>3</th>\n",
              "      <td>Negatif</td>\n",
              "    </tr>\n",
              "    <tr>\n",
              "      <th>4</th>\n",
              "      <td>Negatif</td>\n",
              "    </tr>\n",
              "    <tr>\n",
              "      <th>...</th>\n",
              "      <td>...</td>\n",
              "    </tr>\n",
              "    <tr>\n",
              "      <th>3083</th>\n",
              "      <td>Positif</td>\n",
              "    </tr>\n",
              "    <tr>\n",
              "      <th>3084</th>\n",
              "      <td>Positif</td>\n",
              "    </tr>\n",
              "    <tr>\n",
              "      <th>3085</th>\n",
              "      <td>Positif</td>\n",
              "    </tr>\n",
              "    <tr>\n",
              "      <th>3086</th>\n",
              "      <td>Positif</td>\n",
              "    </tr>\n",
              "    <tr>\n",
              "      <th>3087</th>\n",
              "      <td>Positif</td>\n",
              "    </tr>\n",
              "  </tbody>\n",
              "</table>\n",
              "<p>3088 rows × 1 columns</p>\n",
              "</div>"
            ],
            "text/plain": [
              "        Label\n",
              "0     Positif\n",
              "1     Negatif\n",
              "2     Negatif\n",
              "3     Negatif\n",
              "4     Negatif\n",
              "...       ...\n",
              "3083  Positif\n",
              "3084  Positif\n",
              "3085  Positif\n",
              "3086  Positif\n",
              "3087  Positif\n",
              "\n",
              "[3088 rows x 1 columns]"
            ]
          },
          "metadata": {
            "tags": []
          },
          "execution_count": 23
        }
      ]
    },
    {
      "cell_type": "code",
      "metadata": {
        "id": "6cEIHAVCJ2a2",
        "colab": {
          "base_uri": "https://localhost:8080/",
          "height": 402
        },
        "outputId": "e303fc84-cb53-4d99-cf3d-f8ebbd9c2cb9"
      },
      "source": [
        "dataset = pd.concat([data1, data2], axis=1)\r\n",
        "dataset\r\n"
      ],
      "execution_count": null,
      "outputs": [
        {
          "output_type": "execute_result",
          "data": {
            "text/html": [
              "<div>\n",
              "<style scoped>\n",
              "    .dataframe tbody tr th:only-of-type {\n",
              "        vertical-align: middle;\n",
              "    }\n",
              "\n",
              "    .dataframe tbody tr th {\n",
              "        vertical-align: top;\n",
              "    }\n",
              "\n",
              "    .dataframe thead th {\n",
              "        text-align: right;\n",
              "    }\n",
              "</style>\n",
              "<table border=\"1\" class=\"dataframe\">\n",
              "  <thead>\n",
              "    <tr style=\"text-align: right;\">\n",
              "      <th></th>\n",
              "      <th>Clean_text</th>\n",
              "      <th>Label</th>\n",
              "    </tr>\n",
              "  </thead>\n",
              "  <tbody>\n",
              "    <tr>\n",
              "      <th>0</th>\n",
              "      <td>suntik vaksin emang sakit kalau nggak proses s...</td>\n",
              "      <td>Positif</td>\n",
              "    </tr>\n",
              "    <tr>\n",
              "      <th>1</th>\n",
              "      <td>ciptain lagu kakak maiayg judul nya vaksin tid...</td>\n",
              "      <td>Negatif</td>\n",
              "    </tr>\n",
              "    <tr>\n",
              "      <th>2</th>\n",
              "      <td>sjw anti vaksin percaya madu</td>\n",
              "      <td>Negatif</td>\n",
              "    </tr>\n",
              "    <tr>\n",
              "      <th>3</th>\n",
              "      <td>ibu vaksin palsu sibuk kena prank kamu fahrenh...</td>\n",
              "      <td>Negatif</td>\n",
              "    </tr>\n",
              "    <tr>\n",
              "      <th>4</th>\n",
              "      <td>ahli politik utama vaksin covid pakar</td>\n",
              "      <td>Negatif</td>\n",
              "    </tr>\n",
              "    <tr>\n",
              "      <th>...</th>\n",
              "      <td>...</td>\n",
              "      <td>...</td>\n",
              "    </tr>\n",
              "    <tr>\n",
              "      <th>3083</th>\n",
              "      <td>tuhan mahluk guna bahan utama vaksin anti corona</td>\n",
              "      <td>Positif</td>\n",
              "    </tr>\n",
              "    <tr>\n",
              "      <th>3084</th>\n",
              "      <td>international telecommunication union kalau ef...</td>\n",
              "      <td>Positif</td>\n",
              "    </tr>\n",
              "    <tr>\n",
              "      <th>3085</th>\n",
              "      <td>vaksin corona vaksin cepat temu sejarah dunia ...</td>\n",
              "      <td>Positif</td>\n",
              "    </tr>\n",
              "    <tr>\n",
              "      <th>3086</th>\n",
              "      <td>world health organization world health organiz...</td>\n",
              "      <td>Positif</td>\n",
              "    </tr>\n",
              "    <tr>\n",
              "      <th>3087</th>\n",
              "      <td>cinta vaksin</td>\n",
              "      <td>Positif</td>\n",
              "    </tr>\n",
              "  </tbody>\n",
              "</table>\n",
              "<p>3088 rows × 2 columns</p>\n",
              "</div>"
            ],
            "text/plain": [
              "                                             Clean_text    Label\n",
              "0     suntik vaksin emang sakit kalau nggak proses s...  Positif\n",
              "1     ciptain lagu kakak maiayg judul nya vaksin tid...  Negatif\n",
              "2                          sjw anti vaksin percaya madu  Negatif\n",
              "3     ibu vaksin palsu sibuk kena prank kamu fahrenh...  Negatif\n",
              "4                 ahli politik utama vaksin covid pakar  Negatif\n",
              "...                                                 ...      ...\n",
              "3083   tuhan mahluk guna bahan utama vaksin anti corona  Positif\n",
              "3084  international telecommunication union kalau ef...  Positif\n",
              "3085  vaksin corona vaksin cepat temu sejarah dunia ...  Positif\n",
              "3086  world health organization world health organiz...  Positif\n",
              "3087                                       cinta vaksin  Positif\n",
              "\n",
              "[3088 rows x 2 columns]"
            ]
          },
          "metadata": {
            "tags": []
          },
          "execution_count": 24
        }
      ]
    },
    {
      "cell_type": "code",
      "metadata": {
        "id": "KY9UnGX0h-YE"
      },
      "source": [
        "# save data to csv\r\n",
        "dataset.to_csv('Clean Dataset.csv', index=False)"
      ],
      "execution_count": null,
      "outputs": []
    },
    {
      "cell_type": "code",
      "metadata": {
        "colab": {
          "base_uri": "https://localhost:8080/",
          "height": 402
        },
        "id": "WEMtpcOCjam0",
        "outputId": "1ce8533f-192a-4ef2-ac70-041db942fe52"
      },
      "source": [
        "dataset = pd.read_csv('Clean Dataset.csv')\r\n",
        "dataset"
      ],
      "execution_count": 9,
      "outputs": [
        {
          "output_type": "execute_result",
          "data": {
            "text/html": [
              "<div>\n",
              "<style scoped>\n",
              "    .dataframe tbody tr th:only-of-type {\n",
              "        vertical-align: middle;\n",
              "    }\n",
              "\n",
              "    .dataframe tbody tr th {\n",
              "        vertical-align: top;\n",
              "    }\n",
              "\n",
              "    .dataframe thead th {\n",
              "        text-align: right;\n",
              "    }\n",
              "</style>\n",
              "<table border=\"1\" class=\"dataframe\">\n",
              "  <thead>\n",
              "    <tr style=\"text-align: right;\">\n",
              "      <th></th>\n",
              "      <th>Clean_text</th>\n",
              "      <th>Label</th>\n",
              "    </tr>\n",
              "  </thead>\n",
              "  <tbody>\n",
              "    <tr>\n",
              "      <th>0</th>\n",
              "      <td>suntik vaksin emang sakit kalau nggak proses s...</td>\n",
              "      <td>Positif</td>\n",
              "    </tr>\n",
              "    <tr>\n",
              "      <th>1</th>\n",
              "      <td>ciptain lagu kakak maiayg judul nya vaksin tid...</td>\n",
              "      <td>Negatif</td>\n",
              "    </tr>\n",
              "    <tr>\n",
              "      <th>2</th>\n",
              "      <td>sjw anti vaksin percaya madu</td>\n",
              "      <td>Negatif</td>\n",
              "    </tr>\n",
              "    <tr>\n",
              "      <th>3</th>\n",
              "      <td>ibu vaksin palsu sibuk kena prank kamu fahrenh...</td>\n",
              "      <td>Negatif</td>\n",
              "    </tr>\n",
              "    <tr>\n",
              "      <th>4</th>\n",
              "      <td>ahli politik utama vaksin covid pakar</td>\n",
              "      <td>Negatif</td>\n",
              "    </tr>\n",
              "    <tr>\n",
              "      <th>...</th>\n",
              "      <td>...</td>\n",
              "      <td>...</td>\n",
              "    </tr>\n",
              "    <tr>\n",
              "      <th>3083</th>\n",
              "      <td>tuhan mahluk guna bahan utama vaksin anti corona</td>\n",
              "      <td>Positif</td>\n",
              "    </tr>\n",
              "    <tr>\n",
              "      <th>3084</th>\n",
              "      <td>international telecommunication union kalau ef...</td>\n",
              "      <td>Positif</td>\n",
              "    </tr>\n",
              "    <tr>\n",
              "      <th>3085</th>\n",
              "      <td>vaksin corona vaksin cepat temu sejarah dunia ...</td>\n",
              "      <td>Positif</td>\n",
              "    </tr>\n",
              "    <tr>\n",
              "      <th>3086</th>\n",
              "      <td>world health organization world health organiz...</td>\n",
              "      <td>Positif</td>\n",
              "    </tr>\n",
              "    <tr>\n",
              "      <th>3087</th>\n",
              "      <td>cinta vaksin</td>\n",
              "      <td>Positif</td>\n",
              "    </tr>\n",
              "  </tbody>\n",
              "</table>\n",
              "<p>3088 rows × 2 columns</p>\n",
              "</div>"
            ],
            "text/plain": [
              "                                             Clean_text    Label\n",
              "0     suntik vaksin emang sakit kalau nggak proses s...  Positif\n",
              "1     ciptain lagu kakak maiayg judul nya vaksin tid...  Negatif\n",
              "2                          sjw anti vaksin percaya madu  Negatif\n",
              "3     ibu vaksin palsu sibuk kena prank kamu fahrenh...  Negatif\n",
              "4                 ahli politik utama vaksin covid pakar  Negatif\n",
              "...                                                 ...      ...\n",
              "3083   tuhan mahluk guna bahan utama vaksin anti corona  Positif\n",
              "3084  international telecommunication union kalau ef...  Positif\n",
              "3085  vaksin corona vaksin cepat temu sejarah dunia ...  Positif\n",
              "3086  world health organization world health organiz...  Positif\n",
              "3087                                       cinta vaksin  Positif\n",
              "\n",
              "[3088 rows x 2 columns]"
            ]
          },
          "metadata": {
            "tags": []
          },
          "execution_count": 9
        }
      ]
    },
    {
      "cell_type": "markdown",
      "metadata": {
        "id": "9ClFUrWl9vAU"
      },
      "source": [
        "## **Vectorization**"
      ]
    },
    {
      "cell_type": "markdown",
      "metadata": {
        "id": "K_dA_c2C9w4H"
      },
      "source": [
        "**Count Vectorizer**"
      ]
    },
    {
      "cell_type": "code",
      "metadata": {
        "id": "BDikt8a0r9ZW",
        "colab": {
          "base_uri": "https://localhost:8080/"
        },
        "outputId": "63b1802b-9403-4062-8b64-3119214398b6"
      },
      "source": [
        "X = dataset['Clean_text']\r\n",
        "# Count Vectorizer\r\n",
        "count_vectorizer = CountVectorizer()\r\n",
        "count_vector = count_vectorizer.fit_transform(X)\r\n",
        "count_vector.shape"
      ],
      "execution_count": 10,
      "outputs": [
        {
          "output_type": "execute_result",
          "data": {
            "text/plain": [
              "(3088, 7080)"
            ]
          },
          "metadata": {
            "tags": []
          },
          "execution_count": 10
        }
      ]
    },
    {
      "cell_type": "markdown",
      "metadata": {
        "id": "gM6bumjG94Yn"
      },
      "source": [
        "**TF-IDF Vectorizer**"
      ]
    },
    {
      "cell_type": "code",
      "metadata": {
        "id": "UvNVmBSFsC94",
        "colab": {
          "base_uri": "https://localhost:8080/"
        },
        "outputId": "f492313a-cd7a-4c7e-9317-58c972a026dc"
      },
      "source": [
        "tfidf_vectorizer = TfidfVectorizer()\r\n",
        "tfid_vector = tfidf_vectorizer.fit_transform(X)\r\n",
        "tfid_vector.shape"
      ],
      "execution_count": 75,
      "outputs": [
        {
          "output_type": "execute_result",
          "data": {
            "text/plain": [
              "(3088, 7080)"
            ]
          },
          "metadata": {
            "tags": []
          },
          "execution_count": 75
        }
      ]
    },
    {
      "cell_type": "markdown",
      "metadata": {
        "id": "Q0U0aT9_98-E"
      },
      "source": [
        "**Label Encoder**"
      ]
    },
    {
      "cell_type": "code",
      "metadata": {
        "id": "gIWGC07GsF2H",
        "colab": {
          "base_uri": "https://localhost:8080/"
        },
        "outputId": "a44a91a5-eaf2-49ac-e0ce-38b27bcddfe8"
      },
      "source": [
        "# Encode Target\r\n",
        "encoder = LabelEncoder()\r\n",
        "label = encoder.fit_transform(dataset['Label'])\r\n",
        "label"
      ],
      "execution_count": 12,
      "outputs": [
        {
          "output_type": "execute_result",
          "data": {
            "text/plain": [
              "array([1, 0, 0, ..., 1, 1, 1])"
            ]
          },
          "metadata": {
            "tags": []
          },
          "execution_count": 12
        }
      ]
    },
    {
      "cell_type": "markdown",
      "metadata": {
        "id": "lhrrFicG-IOY"
      },
      "source": [
        "# **Data Splitting**"
      ]
    },
    {
      "cell_type": "code",
      "metadata": {
        "id": "HGIElHp0pX1N",
        "colab": {
          "base_uri": "https://localhost:8080/"
        },
        "outputId": "e03b8a22-b141-41b1-a7e6-aa04fafba805"
      },
      "source": [
        "sampler = SMOTE()\r\n",
        "tfid_vector, label = sampler.fit_resample(tfid_vector, label)\r\n",
        "X_train, X_test, y_train, y_test = train_test_split(tfid_vector, label , shuffle = True, test_size=0.30, random_state=11)"
      ],
      "execution_count": 13,
      "outputs": [
        {
          "output_type": "stream",
          "text": [
            "/usr/local/lib/python3.6/dist-packages/sklearn/utils/deprecation.py:87: FutureWarning: Function safe_indexing is deprecated; safe_indexing is deprecated in version 0.22 and will be removed in version 0.24.\n",
            "  warnings.warn(msg, category=FutureWarning)\n"
          ],
          "name": "stderr"
        }
      ]
    },
    {
      "cell_type": "code",
      "metadata": {
        "id": "H4oDmExxpgST",
        "colab": {
          "base_uri": "https://localhost:8080/"
        },
        "outputId": "1414d712-75bd-411b-b49a-e1728961ac94"
      },
      "source": [
        "# Show the Training and Testing Data\r\n",
        "print(X_train.shape)\r\n",
        "print(X_test.shape)\r\n",
        "print(y_train.shape)\r\n",
        "print(y_test.shape)"
      ],
      "execution_count": 14,
      "outputs": [
        {
          "output_type": "stream",
          "text": [
            "(2569, 7080)\n",
            "(1101, 7080)\n",
            "(2569,)\n",
            "(1101,)\n"
          ],
          "name": "stdout"
        }
      ]
    },
    {
      "cell_type": "markdown",
      "metadata": {
        "id": "37GLTakE-KqL"
      },
      "source": [
        "# **Modelling**"
      ]
    },
    {
      "cell_type": "markdown",
      "metadata": {
        "id": "bb_FX6rh-SCn"
      },
      "source": [
        "## **Support Vector Machine**"
      ]
    },
    {
      "cell_type": "code",
      "metadata": {
        "id": "AP480_anpnA6"
      },
      "source": [
        "from sklearn.svm import SVC\r\n",
        "# svmc = SVC(kernel='rbf',probability=True)\r\n",
        "svmc = SVC(kernel='linear')\r\n",
        "\r\n",
        "# Training SVM\r\n",
        "svmc.fit(X_train, y_train)\r\n",
        "\r\n",
        "# predict SVM to test data\r\n",
        "y_pred_svm = svmc.predict(X_test)"
      ],
      "execution_count": 15,
      "outputs": []
    },
    {
      "cell_type": "code",
      "metadata": {
        "id": "NfEBDMtSpypm",
        "colab": {
          "base_uri": "https://localhost:8080/",
          "height": 334
        },
        "outputId": "94a08f9f-97fe-4888-b140-7344b5689ed1"
      },
      "source": [
        "cm_svm = confusion_matrix(y_test, y_pred_svm)\r\n",
        "cm_svm\r\n",
        "plot_confusion_matrix(cm_svm, figsize=(5,5))\r\n",
        "plt.show()"
      ],
      "execution_count": 16,
      "outputs": [
        {
          "output_type": "display_data",
          "data": {
            "image/png": "[encoded data removed]",
            "text/plain": [
              "<Figure size 360x360 with 1 Axes>"
            ]
          },
          "metadata": {
            "tags": [],
            "needs_background": "light"
          }
        }
      ]
    },
    {
      "cell_type": "code",
      "metadata": {
        "id": "UamlfCSArUlQ",
        "colab": {
          "base_uri": "https://localhost:8080/"
        },
        "outputId": "fbe6b007-1e4a-41b5-c455-23913766a33a"
      },
      "source": [
        "# Classification report\r\n",
        "print(\"Report : \\n\", classification_report(y_test, y_pred_svm))\r\n",
        "print(\"Accuracy : \",accuracy_score(y_test,y_pred_svm))\r\n",
        "accSVMC = accuracy_score(y_test,y_pred_svm)"
      ],
      "execution_count": 17,
      "outputs": [
        {
          "output_type": "stream",
          "text": [
            "Report : \n",
            "               precision    recall  f1-score   support\n",
            "\n",
            "           0       0.69      0.74      0.71       548\n",
            "           1       0.72      0.68      0.70       553\n",
            "\n",
            "    accuracy                           0.71      1101\n",
            "   macro avg       0.71      0.71      0.71      1101\n",
            "weighted avg       0.71      0.71      0.71      1101\n",
            "\n",
            "Accuracy :  0.7057220708446866\n"
          ],
          "name": "stdout"
        }
      ]
    },
    {
      "cell_type": "markdown",
      "metadata": {
        "id": "9pDnHJoT-iNJ"
      },
      "source": [
        "## **MLP**"
      ]
    },
    {
      "cell_type": "code",
      "metadata": {
        "id": "iVhaoaqoAiop",
        "colab": {
          "base_uri": "https://localhost:8080/"
        },
        "outputId": "819f0e7f-925f-46e7-b142-5e761f67d69d"
      },
      "source": [
        "from sklearn.neural_network import MLPClassifier\r\n",
        "\r\n",
        "# mlpc = MLPClassifier(hidden_layer_sizes=(100, 4), max_iter=300, alpha=1e-4,\r\n",
        "#                     solver='sgd', verbose=10, tol=1e-4, random_state=1,\r\n",
        "#                     learning_rate_init=.1)\r\n",
        "mlpc = MLPClassifier(hidden_layer_sizes=(25,25,5), max_iter=500, alpha=0.03,\r\n",
        "                     solver='sgd', verbose=10,  random_state=21,tol=0.000000001,learning_rate_init=.1)\r\n",
        "\r\n",
        "# Training knn\r\n",
        "mlpc.fit(X_train, y_train)\r\n",
        "\r\n",
        "# predict knn to test data\r\n",
        "y_pred_mlpc = mlpc.predict(X_test)\r\n"
      ],
      "execution_count": 18,
      "outputs": [
        {
          "output_type": "stream",
          "text": [
            "Iteration 1, loss = 0.72144081\n",
            "Iteration 2, loss = 0.70172968\n",
            "Iteration 3, loss = 0.70051121\n",
            "Iteration 4, loss = 0.69986173\n",
            "Iteration 5, loss = 0.70009590\n",
            "Iteration 6, loss = 0.70003921\n",
            "Iteration 7, loss = 0.69963023\n",
            "Iteration 8, loss = 0.69973216\n",
            "Iteration 9, loss = 0.69977244\n",
            "Iteration 10, loss = 0.69983592\n",
            "Iteration 11, loss = 0.69964021\n",
            "Iteration 12, loss = 0.69954095\n",
            "Iteration 13, loss = 0.69948342\n",
            "Iteration 14, loss = 0.69951221\n",
            "Iteration 15, loss = 0.69939555\n",
            "Iteration 16, loss = 0.69927320\n",
            "Iteration 17, loss = 0.69917865\n",
            "Iteration 18, loss = 0.69912816\n",
            "Iteration 19, loss = 0.69879396\n",
            "Iteration 20, loss = 0.69874064\n",
            "Iteration 21, loss = 0.69825747\n",
            "Iteration 22, loss = 0.69789498\n",
            "Iteration 23, loss = 0.69717086\n",
            "Iteration 24, loss = 0.69625315\n",
            "Iteration 25, loss = 0.69484328\n",
            "Iteration 26, loss = 0.69242277\n",
            "Iteration 27, loss = 0.68653771\n",
            "Iteration 28, loss = 0.67657092\n",
            "Iteration 29, loss = 0.65516300\n",
            "Iteration 30, loss = 0.61286128\n",
            "Iteration 31, loss = 0.71735539\n",
            "Iteration 32, loss = 0.70135775\n",
            "Iteration 33, loss = 0.70291213\n",
            "Iteration 34, loss = 0.70047839\n",
            "Iteration 35, loss = 0.70024196\n",
            "Iteration 36, loss = 0.70073089\n",
            "Iteration 37, loss = 0.70012456\n",
            "Iteration 38, loss = 0.70034880\n",
            "Iteration 39, loss = 0.70007147\n",
            "Iteration 40, loss = 0.70009257\n",
            "Iteration 41, loss = 0.70015637\n",
            "Training loss did not improve more than tol=0.000000 for 10 consecutive epochs. Stopping.\n"
          ],
          "name": "stdout"
        }
      ]
    },
    {
      "cell_type": "code",
      "metadata": {
        "id": "dLpG4cG2A3yJ",
        "colab": {
          "base_uri": "https://localhost:8080/"
        },
        "outputId": "54ba5504-3b60-469f-9b10-b8ae80b04caa"
      },
      "source": [
        "# Classification report\r\n",
        "print(\"Report : \\n\", classification_report(y_test, y_pred_mlpc))\r\n",
        "print(\"Accuracy : \",accuracy_score(y_test,y_pred_mlpc))\r\n",
        "accMLPC = accuracy_score(y_test,y_pred_mlpc)"
      ],
      "execution_count": 19,
      "outputs": [
        {
          "output_type": "stream",
          "text": [
            "Report : \n",
            "               precision    recall  f1-score   support\n",
            "\n",
            "           0       0.00      0.00      0.00       548\n",
            "           1       0.50      1.00      0.67       553\n",
            "\n",
            "    accuracy                           0.50      1101\n",
            "   macro avg       0.25      0.50      0.33      1101\n",
            "weighted avg       0.25      0.50      0.34      1101\n",
            "\n",
            "Accuracy :  0.5022706630336058\n"
          ],
          "name": "stdout"
        },
        {
          "output_type": "stream",
          "text": [
            "/usr/local/lib/python3.6/dist-packages/sklearn/metrics/_classification.py:1272: UndefinedMetricWarning: Precision and F-score are ill-defined and being set to 0.0 in labels with no predicted samples. Use `zero_division` parameter to control this behavior.\n",
            "  _warn_prf(average, modifier, msg_start, len(result))\n"
          ],
          "name": "stderr"
        }
      ]
    },
    {
      "cell_type": "markdown",
      "metadata": {
        "id": "v2TLL9_RRqSb"
      },
      "source": [
        "## **Neural Network**"
      ]
    },
    {
      "cell_type": "code",
      "metadata": {
        "colab": {
          "base_uri": "https://localhost:8080/"
        },
        "id": "61-iJR2Amivb",
        "outputId": "93cc2d4e-f80a-4729-d30a-65cc21df429c"
      },
      "source": [
        "!pip install tensorflow"
      ],
      "execution_count": 21,
      "outputs": [
        {
          "output_type": "stream",
          "text": [
            "Requirement already satisfied: tensorflow in /usr/local/lib/python3.6/dist-packages (2.4.0)\n",
            "Requirement already satisfied: google-pasta~=0.2 in /usr/local/lib/python3.6/dist-packages (from tensorflow) (0.2.0)\n",
            "Requirement already satisfied: typing-extensions~=3.7.4 in /usr/local/lib/python3.6/dist-packages (from tensorflow) (3.7.4.3)\n",
            "Requirement already satisfied: absl-py~=0.10 in /usr/local/lib/python3.6/dist-packages (from tensorflow) (0.10.0)\n",
            "Requirement already satisfied: numpy~=1.19.2 in /usr/local/lib/python3.6/dist-packages (from tensorflow) (1.19.4)\n",
            "Requirement already satisfied: termcolor~=1.1.0 in /usr/local/lib/python3.6/dist-packages (from tensorflow) (1.1.0)\n",
            "Requirement already satisfied: wheel~=0.35 in /usr/local/lib/python3.6/dist-packages (from tensorflow) (0.36.2)\n",
            "Requirement already satisfied: tensorboard~=2.4 in /usr/local/lib/python3.6/dist-packages (from tensorflow) (2.4.0)\n",
            "Requirement already satisfied: flatbuffers~=1.12.0 in /usr/local/lib/python3.6/dist-packages (from tensorflow) (1.12)\n",
            "Requirement already satisfied: tensorflow-estimator<2.5.0,>=2.4.0rc0 in /usr/local/lib/python3.6/dist-packages (from tensorflow) (2.4.0)\n",
            "Requirement already satisfied: opt-einsum~=3.3.0 in /usr/local/lib/python3.6/dist-packages (from tensorflow) (3.3.0)\n",
            "Requirement already satisfied: grpcio~=1.32.0 in /usr/local/lib/python3.6/dist-packages (from tensorflow) (1.32.0)\n",
            "Requirement already satisfied: h5py~=2.10.0 in /usr/local/lib/python3.6/dist-packages (from tensorflow) (2.10.0)\n",
            "Requirement already satisfied: astunparse~=1.6.3 in /usr/local/lib/python3.6/dist-packages (from tensorflow) (1.6.3)\n",
            "Requirement already satisfied: protobuf>=3.9.2 in /usr/local/lib/python3.6/dist-packages (from tensorflow) (3.12.4)\n",
            "Requirement already satisfied: gast==0.3.3 in /usr/local/lib/python3.6/dist-packages (from tensorflow) (0.3.3)\n",
            "Requirement already satisfied: wrapt~=1.12.1 in /usr/local/lib/python3.6/dist-packages (from tensorflow) (1.12.1)\n",
            "Requirement already satisfied: six~=1.15.0 in /usr/local/lib/python3.6/dist-packages (from tensorflow) (1.15.0)\n",
            "Requirement already satisfied: keras-preprocessing~=1.1.2 in /usr/local/lib/python3.6/dist-packages (from tensorflow) (1.1.2)\n",
            "Requirement already satisfied: requests<3,>=2.21.0 in /usr/local/lib/python3.6/dist-packages (from tensorboard~=2.4->tensorflow) (2.23.0)\n",
            "Requirement already satisfied: werkzeug>=0.11.15 in /usr/local/lib/python3.6/dist-packages (from tensorboard~=2.4->tensorflow) (1.0.1)\n",
            "Requirement already satisfied: tensorboard-plugin-wit>=1.6.0 in /usr/local/lib/python3.6/dist-packages (from tensorboard~=2.4->tensorflow) (1.7.0)\n",
            "Requirement already satisfied: google-auth<2,>=1.6.3 in /usr/local/lib/python3.6/dist-packages (from tensorboard~=2.4->tensorflow) (1.17.2)\n",
            "Requirement already satisfied: setuptools>=41.0.0 in /usr/local/lib/python3.6/dist-packages (from tensorboard~=2.4->tensorflow) (50.3.2)\n",
            "Requirement already satisfied: google-auth-oauthlib<0.5,>=0.4.1 in /usr/local/lib/python3.6/dist-packages (from tensorboard~=2.4->tensorflow) (0.4.2)\n",
            "Requirement already satisfied: markdown>=2.6.8 in /usr/local/lib/python3.6/dist-packages (from tensorboard~=2.4->tensorflow) (3.3.3)\n",
            "Requirement already satisfied: chardet<4,>=3.0.2 in /usr/local/lib/python3.6/dist-packages (from requests<3,>=2.21.0->tensorboard~=2.4->tensorflow) (3.0.4)\n",
            "Requirement already satisfied: idna<3,>=2.5 in /usr/local/lib/python3.6/dist-packages (from requests<3,>=2.21.0->tensorboard~=2.4->tensorflow) (2.10)\n",
            "Requirement already satisfied: certifi>=2017.4.17 in /usr/local/lib/python3.6/dist-packages (from requests<3,>=2.21.0->tensorboard~=2.4->tensorflow) (2020.12.5)\n",
            "Requirement already satisfied: urllib3!=1.25.0,!=1.25.1,<1.26,>=1.21.1 in /usr/local/lib/python3.6/dist-packages (from requests<3,>=2.21.0->tensorboard~=2.4->tensorflow) (1.24.3)\n",
            "Requirement already satisfied: rsa<5,>=3.1.4; python_version >= \"3\" in /usr/local/lib/python3.6/dist-packages (from google-auth<2,>=1.6.3->tensorboard~=2.4->tensorflow) (4.6)\n",
            "Requirement already satisfied: cachetools<5.0,>=2.0.0 in /usr/local/lib/python3.6/dist-packages (from google-auth<2,>=1.6.3->tensorboard~=2.4->tensorflow) (4.2.0)\n",
            "Requirement already satisfied: pyasn1-modules>=0.2.1 in /usr/local/lib/python3.6/dist-packages (from google-auth<2,>=1.6.3->tensorboard~=2.4->tensorflow) (0.2.8)\n",
            "Requirement already satisfied: requests-oauthlib>=0.7.0 in /usr/local/lib/python3.6/dist-packages (from google-auth-oauthlib<0.5,>=0.4.1->tensorboard~=2.4->tensorflow) (1.3.0)\n",
            "Requirement already satisfied: importlib-metadata; python_version < \"3.8\" in /usr/local/lib/python3.6/dist-packages (from markdown>=2.6.8->tensorboard~=2.4->tensorflow) (3.3.0)\n",
            "Requirement already satisfied: pyasn1>=0.1.3 in /usr/local/lib/python3.6/dist-packages (from rsa<5,>=3.1.4; python_version >= \"3\"->google-auth<2,>=1.6.3->tensorboard~=2.4->tensorflow) (0.4.8)\n",
            "Requirement already satisfied: oauthlib>=3.0.0 in /usr/local/lib/python3.6/dist-packages (from requests-oauthlib>=0.7.0->google-auth-oauthlib<0.5,>=0.4.1->tensorboard~=2.4->tensorflow) (3.1.0)\n",
            "Requirement already satisfied: zipp>=0.5 in /usr/local/lib/python3.6/dist-packages (from importlib-metadata; python_version < \"3.8\"->markdown>=2.6.8->tensorboard~=2.4->tensorflow) (3.4.0)\n"
          ],
          "name": "stdout"
        }
      ]
    },
    {
      "cell_type": "code",
      "metadata": {
        "colab": {
          "base_uri": "https://localhost:8080/"
        },
        "id": "Uo0epekbnQKx",
        "outputId": "463ef8d5-b88f-495d-c352-852720aefc50"
      },
      "source": [
        "import tensorflow as tf\r\n",
        "print(tf.__version__)"
      ],
      "execution_count": 22,
      "outputs": [
        {
          "output_type": "stream",
          "text": [
            "2.4.0\n"
          ],
          "name": "stdout"
        }
      ]
    },
    {
      "cell_type": "code",
      "metadata": {
        "colab": {
          "base_uri": "https://localhost:8080/"
        },
        "id": "DNLmpM6lkl4z",
        "outputId": "8b377db6-d007-4c32-f43a-a26323bf2d0f"
      },
      "source": [
        "!pip install keras"
      ],
      "execution_count": 23,
      "outputs": [
        {
          "output_type": "stream",
          "text": [
            "Requirement already satisfied: keras in /usr/local/lib/python3.6/dist-packages (2.4.3)\n",
            "Requirement already satisfied: numpy>=1.9.1 in /usr/local/lib/python3.6/dist-packages (from keras) (1.19.4)\n",
            "Requirement already satisfied: scipy>=0.14 in /usr/local/lib/python3.6/dist-packages (from keras) (1.4.1)\n",
            "Requirement already satisfied: h5py in /usr/local/lib/python3.6/dist-packages (from keras) (2.10.0)\n",
            "Requirement already satisfied: pyyaml in /usr/local/lib/python3.6/dist-packages (from keras) (3.13)\n",
            "Requirement already satisfied: six in /usr/local/lib/python3.6/dist-packages (from h5py->keras) (1.15.0)\n"
          ],
          "name": "stdout"
        }
      ]
    },
    {
      "cell_type": "code",
      "metadata": {
        "id": "MFoRxsVbSFOR"
      },
      "source": [
        "# Import Libraries for Neural Network\r\n",
        "from keras.models import Sequential\r\n",
        "from keras import layers\r\n",
        "from tensorflow.keras.preprocessing.text import Tokenizer\r\n",
        "from tensorflow.keras.preprocessing.sequence import pad_sequences\r\n",
        "from keras.wrappers.scikit_learn import KerasClassifier"
      ],
      "execution_count": 24,
      "outputs": []
    },
    {
      "cell_type": "code",
      "metadata": {
        "id": "NFAm0n3pRsP1"
      },
      "source": [
        "# Add model for Neural Network\r\n",
        "input_dim = X_train.shape[1]  # Number of features\r\n",
        "\r\n",
        "model = Sequential()\r\n",
        "model.add(layers.Dense(10, input_dim=input_dim, activation='relu'))\r\n",
        "model.add(layers.Dense(10, activation='relu'))\r\n",
        "model.add(layers.Dense(10, activation='relu'))\r\n",
        "model.add(layers.Dense(1, activation='sigmoid'))"
      ],
      "execution_count": 25,
      "outputs": []
    },
    {
      "cell_type": "code",
      "metadata": {
        "id": "sRBLz8NVR5a0",
        "colab": {
          "base_uri": "https://localhost:8080/"
        },
        "outputId": "7f8bbd3d-e94d-4899-a7d6-59df69c9b245"
      },
      "source": [
        "# Compile model\r\n",
        "model.compile(loss='binary_crossentropy', \r\n",
        "              optimizer='adam', \r\n",
        "              metrics=['accuracy'])\r\n",
        "          \r\n",
        "model.summary()"
      ],
      "execution_count": 26,
      "outputs": [
        {
          "output_type": "stream",
          "text": [
            "Model: \"sequential\"\n",
            "_________________________________________________________________\n",
            "Layer (type)                 Output Shape              Param #   \n",
            "=================================================================\n",
            "dense (Dense)                (None, 10)                70810     \n",
            "_________________________________________________________________\n",
            "dense_1 (Dense)              (None, 10)                110       \n",
            "_________________________________________________________________\n",
            "dense_2 (Dense)              (None, 10)                110       \n",
            "_________________________________________________________________\n",
            "dense_3 (Dense)              (None, 1)                 11        \n",
            "=================================================================\n",
            "Total params: 71,041\n",
            "Trainable params: 71,041\n",
            "Non-trainable params: 0\n",
            "_________________________________________________________________\n"
          ],
          "name": "stdout"
        }
      ]
    },
    {
      "cell_type": "code",
      "metadata": {
        "id": "U_v5lE_5SINR",
        "colab": {
          "base_uri": "https://localhost:8080/"
        },
        "outputId": "fc0ded84-e1bd-4c46-ffcd-16817bff6b5a"
      },
      "source": [
        "# Run Model\r\n",
        "history = model.fit(X_train, y_train,\r\n",
        "                    epochs=10,\r\n",
        "                    verbose=True,\r\n",
        "                    validation_data=(X_test, y_test),\r\n",
        "                    batch_size=10)"
      ],
      "execution_count": 27,
      "outputs": [
        {
          "output_type": "stream",
          "text": [
            "Epoch 1/10\n",
            "257/257 [==============================] - 1s 3ms/step - loss: 0.6902 - accuracy: 0.5307 - val_loss: 0.6543 - val_accuracy: 0.6994\n",
            "Epoch 2/10\n",
            "257/257 [==============================] - 0s 2ms/step - loss: 0.5420 - accuracy: 0.8029 - val_loss: 0.5550 - val_accuracy: 0.7275\n",
            "Epoch 3/10\n",
            "257/257 [==============================] - 0s 2ms/step - loss: 0.2398 - accuracy: 0.9245 - val_loss: 0.6537 - val_accuracy: 0.7166\n",
            "Epoch 4/10\n",
            "257/257 [==============================] - 0s 2ms/step - loss: 0.1253 - accuracy: 0.9632 - val_loss: 0.7244 - val_accuracy: 0.7221\n",
            "Epoch 5/10\n",
            "257/257 [==============================] - 0s 2ms/step - loss: 0.0768 - accuracy: 0.9769 - val_loss: 0.7954 - val_accuracy: 0.7248\n",
            "Epoch 6/10\n",
            "257/257 [==============================] - 0s 2ms/step - loss: 0.0392 - accuracy: 0.9880 - val_loss: 0.8771 - val_accuracy: 0.7266\n",
            "Epoch 7/10\n",
            "257/257 [==============================] - 0s 2ms/step - loss: 0.0373 - accuracy: 0.9903 - val_loss: 0.9494 - val_accuracy: 0.7366\n",
            "Epoch 8/10\n",
            "257/257 [==============================] - 0s 2ms/step - loss: 0.0251 - accuracy: 0.9933 - val_loss: 1.0018 - val_accuracy: 0.7357\n",
            "Epoch 9/10\n",
            "257/257 [==============================] - 0s 2ms/step - loss: 0.0279 - accuracy: 0.9900 - val_loss: 1.0497 - val_accuracy: 0.7384\n",
            "Epoch 10/10\n",
            "257/257 [==============================] - 0s 2ms/step - loss: 0.0168 - accuracy: 0.9955 - val_loss: 1.1495 - val_accuracy: 0.7212\n"
          ],
          "name": "stdout"
        }
      ]
    },
    {
      "cell_type": "code",
      "metadata": {
        "id": "_m6XYqjnSbSf",
        "colab": {
          "base_uri": "https://localhost:8080/"
        },
        "outputId": "963286c4-9b90-4658-87bf-c16cf47a1d4e"
      },
      "source": [
        "# Check the Accuracy\r\n",
        "loss, accuracy = model.evaluate(X_train, y_train, verbose=False)\r\n",
        "print(\"Training Accuracy: {:.4f}\".format(accuracy))\r\n",
        "loss, accuracy = model.evaluate(X_test, y_test, verbose=False)\r\n",
        "print(\"Testing Accuracy:  {:.4f}\".format(accuracy))"
      ],
      "execution_count": 28,
      "outputs": [
        {
          "output_type": "stream",
          "text": [
            "Training Accuracy: 0.9942\n",
            "Testing Accuracy:  0.7212\n"
          ],
          "name": "stdout"
        }
      ]
    },
    {
      "cell_type": "code",
      "metadata": {
        "id": "prL-KRuEScC-"
      },
      "source": [
        "# Plot accuracy\r\n",
        "\r\n",
        "import matplotlib.pyplot as plt\r\n",
        "plt.style.use('ggplot')\r\n",
        "\r\n",
        "def plot_history(history):\r\n",
        "    acc = history.history['accuracy']\r\n",
        "    val_acc = history.history['val_accuracy']\r\n",
        "    loss = history.history['loss']\r\n",
        "    val_loss = history.history['val_loss']\r\n",
        "    x = range(1, len(acc) + 1)\r\n",
        "\r\n",
        "    plt.figure(figsize=(12, 5))\r\n",
        "    plt.subplot(1, 2, 1)\r\n",
        "    plt.plot(x, acc, 'b', label='Training acc')\r\n",
        "    plt.plot(x, val_acc, 'r', label='Validation acc')\r\n",
        "    plt.title('Training and validation accuracy')\r\n",
        "    plt.legend()\r\n",
        "    plt.subplot(1, 2, 2)\r\n",
        "    plt.plot(x, loss, 'b', label='Training loss')\r\n",
        "    plt.plot(x, val_loss, 'r', label='Validation loss')\r\n",
        "    plt.title('Training and validation loss')\r\n",
        "    plt.legend()"
      ],
      "execution_count": 29,
      "outputs": []
    },
    {
      "cell_type": "code",
      "metadata": {
        "id": "DxftpgUNSn5U",
        "colab": {
          "base_uri": "https://localhost:8080/",
          "height": 337
        },
        "outputId": "321cde92-b26f-403b-fb78-bda29ce1abbd"
      },
      "source": [
        "plot_history(history)"
      ],
      "execution_count": 30,
      "outputs": [
        {
          "output_type": "display_data",
          "data": {
            "image/png": "[encoded data removed]",
            "text/plain": [
              "<Figure size 864x360 with 2 Axes>"
            ]
          },
          "metadata": {
            "tags": []
          }
        }
      ]
    },
    {
      "cell_type": "code",
      "metadata": {
        "id": "Or-NtGrPekk2",
        "colab": {
          "base_uri": "https://localhost:8080/",
          "height": 466
        },
        "outputId": "93b91682-addd-402d-b762-fa6338260bba"
      },
      "source": [
        "# Save Model Layer\r\n",
        "from tensorflow.keras.utils import plot_model\r\n",
        "plot_model(model)"
      ],
      "execution_count": 31,
      "outputs": [
        {
          "output_type": "execute_result",
          "data": {
            "image/png": "[encoded data removed]",
            "text/plain": [
              "<IPython.core.display.Image object>"
            ]
          },
          "metadata": {
            "tags": []
          },
          "execution_count": 31
        }
      ]
    },
    {
      "cell_type": "code",
      "metadata": {
        "id": "c-feWdvqePkV",
        "colab": {
          "base_uri": "https://localhost:8080/"
        },
        "outputId": "f02cbea2-bd60-4bab-aaac-d3dc687c5ae2"
      },
      "source": [
        "# Save Model\r\n",
        "model.save('model', save_format=\"tf\")"
      ],
      "execution_count": 32,
      "outputs": [
        {
          "output_type": "stream",
          "text": [
            "INFO:tensorflow:Assets written to: model/assets\n"
          ],
          "name": "stdout"
        }
      ]
    },
    {
      "cell_type": "markdown",
      "metadata": {
        "id": "JsTTNDC7-wvZ"
      },
      "source": [
        "## **Model Comparison**"
      ]
    },
    {
      "cell_type": "code",
      "metadata": {
        "id": "sAOfd2Cz-zWj",
        "colab": {
          "base_uri": "https://localhost:8080/",
          "height": 136
        },
        "outputId": "491a1f70-9184-4f70-e97d-9e8fe36e328f"
      },
      "source": [
        "# Accuracy Comparison\r\n",
        "models = ['SVM', 'MLP', 'NN']\r\n",
        "accuracies = [accSVMC, accMLPC, accuracy]\r\n",
        "comp = pd.DataFrame(list(zip(models, accuracies)), columns=['Model', 'Accuracy'])\r\n",
        "comp"
      ],
      "execution_count": 101,
      "outputs": [
        {
          "output_type": "execute_result",
          "data": {
            "text/html": [
              "<div>\n",
              "<style scoped>\n",
              "    .dataframe tbody tr th:only-of-type {\n",
              "        vertical-align: middle;\n",
              "    }\n",
              "\n",
              "    .dataframe tbody tr th {\n",
              "        vertical-align: top;\n",
              "    }\n",
              "\n",
              "    .dataframe thead th {\n",
              "        text-align: right;\n",
              "    }\n",
              "</style>\n",
              "<table border=\"1\" class=\"dataframe\">\n",
              "  <thead>\n",
              "    <tr style=\"text-align: right;\">\n",
              "      <th></th>\n",
              "      <th>Model</th>\n",
              "      <th>Accuracy</th>\n",
              "    </tr>\n",
              "  </thead>\n",
              "  <tbody>\n",
              "    <tr>\n",
              "      <th>0</th>\n",
              "      <td>SVM</td>\n",
              "      <td>0.705722</td>\n",
              "    </tr>\n",
              "    <tr>\n",
              "      <th>1</th>\n",
              "      <td>MLP</td>\n",
              "      <td>0.502271</td>\n",
              "    </tr>\n",
              "    <tr>\n",
              "      <th>2</th>\n",
              "      <td>NN</td>\n",
              "      <td>0.721163</td>\n",
              "    </tr>\n",
              "  </tbody>\n",
              "</table>\n",
              "</div>"
            ],
            "text/plain": [
              "  Model  Accuracy\n",
              "0   SVM  0.705722\n",
              "1   MLP  0.502271\n",
              "2    NN  0.721163"
            ]
          },
          "metadata": {
            "tags": []
          },
          "execution_count": 101
        }
      ]
    },
    {
      "cell_type": "markdown",
      "metadata": {
        "id": "UGM71TqPDN62"
      },
      "source": [
        "Conclusion : From 3 models above, Neural Network has the biggest accuracy."
      ]
    },
    {
      "cell_type": "markdown",
      "metadata": {
        "id": "PtHb-ycjdSbr"
      },
      "source": [
        "# **Predict**"
      ]
    },
    {
      "cell_type": "code",
      "metadata": {
        "cellView": "form",
        "id": "mJ3IoF-CRALL"
      },
      "source": [
        "#@title Input Kalimat\r\n",
        "#@markdown Kalimat diawali dan diakhiri tanda kutip (\" \")\r\n",
        "\r\n",
        "kalimat=\"Auamat kesel bgt hari ini nonton tv isinya pilkada!!!  Stress bgt hampir setaun ini kuliah/sekolah online, eh pilkada ttp jalan tetap menaati protokol kesehatan Berak sekebon!!!! Cebok segayung\"   #@param\r\n",
        "#@markdown ---"
      ],
      "execution_count": 81,
      "outputs": []
    },
    {
      "cell_type": "code",
      "metadata": {
        "id": "1ZmV3dmbU6T1",
        "colab": {
          "base_uri": "https://localhost:8080/",
          "height": 77
        },
        "outputId": "cc3c82bb-4c9b-4290-f5df-96bc5489d28e"
      },
      "source": [
        "ls=[]\r\n",
        "ls.append(kalimat)\r\n",
        "df = pd.DataFrame(ls, columns=['text'])\r\n",
        "df"
      ],
      "execution_count": 82,
      "outputs": [
        {
          "output_type": "execute_result",
          "data": {
            "text/html": [
              "<div>\n",
              "<style scoped>\n",
              "    .dataframe tbody tr th:only-of-type {\n",
              "        vertical-align: middle;\n",
              "    }\n",
              "\n",
              "    .dataframe tbody tr th {\n",
              "        vertical-align: top;\n",
              "    }\n",
              "\n",
              "    .dataframe thead th {\n",
              "        text-align: right;\n",
              "    }\n",
              "</style>\n",
              "<table border=\"1\" class=\"dataframe\">\n",
              "  <thead>\n",
              "    <tr style=\"text-align: right;\">\n",
              "      <th></th>\n",
              "      <th>text</th>\n",
              "    </tr>\n",
              "  </thead>\n",
              "  <tbody>\n",
              "    <tr>\n",
              "      <th>0</th>\n",
              "      <td>Auamat kesel bgt hari ini nonton tv isinya pil...</td>\n",
              "    </tr>\n",
              "  </tbody>\n",
              "</table>\n",
              "</div>"
            ],
            "text/plain": [
              "                                                text\n",
              "0  Auamat kesel bgt hari ini nonton tv isinya pil..."
            ]
          },
          "metadata": {
            "tags": []
          },
          "execution_count": 82
        }
      ]
    },
    {
      "cell_type": "code",
      "metadata": {
        "id": "Tdf1ZhuSXGrT"
      },
      "source": [
        "# def cleanx(tw):\r\n",
        "#   # temp_tweet = []\r\n",
        "\r\n",
        "#   # removal of @name[mention]\r\n",
        "#   tw = re.sub(r\"(?:\\@|https?\\://)\\S+\", \"\", tw)\r\n",
        "\r\n",
        "#   # removal of links[https://blabala.com]\r\n",
        "#   # tw = re.sub(r\"http[s]?://(?:[a-zA-Z]|[0-9]|[$-_@.&+]|[!*\\(\\),]|(?:%[0-9a-fA-F][0-9a-fA-F]))+\", \"\", tw)\r\n",
        "#   tw = re.sub(r\"http\\S+\", \"\", tw)\r\n",
        "\r\n",
        "#   # removal of new line\r\n",
        "#   tw = re.sub('\\n', '', tw)\r\n",
        "\r\n",
        "#   # removal of RT\r\n",
        "#   tw = re.sub('RT', '', tw)\r\n",
        "\r\n",
        "#   # removal of punctuations and numbers\r\n",
        "#   tw = re.sub(\"[^a-zA-Z^']\", \" \", tw)\r\n",
        "#   tw = re.sub(\" {2,}\", \" \", tw)\r\n",
        "\r\n",
        "#   # remove leading and trailing whitespace\r\n",
        "#   tw = tw.strip()\r\n",
        "\r\n",
        "#   # remove whitespace with a single space\r\n",
        "#   tw = re.sub(r'\\s+', ' ', tw)\r\n",
        "\r\n",
        "#   # convert text to Lowercase\r\n",
        "#   tw = tw.lower();\r\n",
        "#   # temp_tweet.append(tw)\r\n",
        "#   return tw"
      ],
      "execution_count": 83,
      "outputs": []
    },
    {
      "cell_type": "code",
      "metadata": {
        "id": "WhdtvDDdUFSa",
        "colab": {
          "base_uri": "https://localhost:8080/",
          "height": 77
        },
        "outputId": "614cdcb5-0170-435c-f2a0-1f582102349a"
      },
      "source": [
        "df['text'] = clean(df['text'])\r\n",
        "df"
      ],
      "execution_count": 99,
      "outputs": [
        {
          "output_type": "execute_result",
          "data": {
            "text/html": [
              "<div>\n",
              "<style scoped>\n",
              "    .dataframe tbody tr th:only-of-type {\n",
              "        vertical-align: middle;\n",
              "    }\n",
              "\n",
              "    .dataframe tbody tr th {\n",
              "        vertical-align: top;\n",
              "    }\n",
              "\n",
              "    .dataframe thead th {\n",
              "        text-align: right;\n",
              "    }\n",
              "</style>\n",
              "<table border=\"1\" class=\"dataframe\">\n",
              "  <thead>\n",
              "    <tr style=\"text-align: right;\">\n",
              "      <th></th>\n",
              "      <th>text</th>\n",
              "    </tr>\n",
              "  </thead>\n",
              "  <tbody>\n",
              "    <tr>\n",
              "      <th>0</th>\n",
              "      <td>auamat kesel banget nonton televisi ikatan sek...</td>\n",
              "    </tr>\n",
              "  </tbody>\n",
              "</table>\n",
              "</div>"
            ],
            "text/plain": [
              "                                                text\n",
              "0  auamat kesel banget nonton televisi ikatan sek..."
            ]
          },
          "metadata": {
            "tags": []
          },
          "execution_count": 99
        }
      ]
    },
    {
      "cell_type": "code",
      "metadata": {
        "id": "nG3rdYYjY40o",
        "colab": {
          "base_uri": "https://localhost:8080/",
          "height": 77
        },
        "outputId": "ffdd86ef-7595-403d-b9b9-1ce420161340"
      },
      "source": [
        "df['text'] = token(df['text'])\r\n",
        "df['text'] = stop_words(df['text'])\r\n",
        "df"
      ],
      "execution_count": 85,
      "outputs": [
        {
          "output_type": "execute_result",
          "data": {
            "text/html": [
              "<div>\n",
              "<style scoped>\n",
              "    .dataframe tbody tr th:only-of-type {\n",
              "        vertical-align: middle;\n",
              "    }\n",
              "\n",
              "    .dataframe tbody tr th {\n",
              "        vertical-align: top;\n",
              "    }\n",
              "\n",
              "    .dataframe thead th {\n",
              "        text-align: right;\n",
              "    }\n",
              "</style>\n",
              "<table border=\"1\" class=\"dataframe\">\n",
              "  <thead>\n",
              "    <tr style=\"text-align: right;\">\n",
              "      <th></th>\n",
              "      <th>text</th>\n",
              "    </tr>\n",
              "  </thead>\n",
              "  <tbody>\n",
              "    <tr>\n",
              "      <th>0</th>\n",
              "      <td>[Auamat, kesel, bgt, nonton, tv, isinya, pilka...</td>\n",
              "    </tr>\n",
              "  </tbody>\n",
              "</table>\n",
              "</div>"
            ],
            "text/plain": [
              "                                                text\n",
              "0  [Auamat, kesel, bgt, nonton, tv, isinya, pilka..."
            ]
          },
          "metadata": {
            "tags": []
          },
          "execution_count": 85
        }
      ]
    },
    {
      "cell_type": "code",
      "metadata": {
        "id": "iXnsXVqUZloa",
        "colab": {
          "base_uri": "https://localhost:8080/",
          "height": 77
        },
        "outputId": "81b354b7-ea78-4e52-e290-431d1e564310"
      },
      "source": [
        "df['text'] = df['text'].apply(lambda x: \" \".join(x) if isinstance(x, list) else x)\r\n",
        "df.head()"
      ],
      "execution_count": 86,
      "outputs": [
        {
          "output_type": "execute_result",
          "data": {
            "text/html": [
              "<div>\n",
              "<style scoped>\n",
              "    .dataframe tbody tr th:only-of-type {\n",
              "        vertical-align: middle;\n",
              "    }\n",
              "\n",
              "    .dataframe tbody tr th {\n",
              "        vertical-align: top;\n",
              "    }\n",
              "\n",
              "    .dataframe thead th {\n",
              "        text-align: right;\n",
              "    }\n",
              "</style>\n",
              "<table border=\"1\" class=\"dataframe\">\n",
              "  <thead>\n",
              "    <tr style=\"text-align: right;\">\n",
              "      <th></th>\n",
              "      <th>text</th>\n",
              "    </tr>\n",
              "  </thead>\n",
              "  <tbody>\n",
              "    <tr>\n",
              "      <th>0</th>\n",
              "      <td>Auamat kesel bgt nonton tv isinya pilkada ! ! ...</td>\n",
              "    </tr>\n",
              "  </tbody>\n",
              "</table>\n",
              "</div>"
            ],
            "text/plain": [
              "                                                text\n",
              "0  Auamat kesel bgt nonton tv isinya pilkada ! ! ..."
            ]
          },
          "metadata": {
            "tags": []
          },
          "execution_count": 86
        }
      ]
    },
    {
      "cell_type": "code",
      "metadata": {
        "id": "AmJzFYt5UY9O",
        "colab": {
          "base_uri": "https://localhost:8080/",
          "height": 77
        },
        "outputId": "7acaff8d-22bc-47a5-eb14-4b84857e62a6"
      },
      "source": [
        "df['text'] = df.apply(lambda row : stem(row['text']), axis = 1)\r\n",
        "df"
      ],
      "execution_count": 87,
      "outputs": [
        {
          "output_type": "execute_result",
          "data": {
            "text/html": [
              "<div>\n",
              "<style scoped>\n",
              "    .dataframe tbody tr th:only-of-type {\n",
              "        vertical-align: middle;\n",
              "    }\n",
              "\n",
              "    .dataframe tbody tr th {\n",
              "        vertical-align: top;\n",
              "    }\n",
              "\n",
              "    .dataframe thead th {\n",
              "        text-align: right;\n",
              "    }\n",
              "</style>\n",
              "<table border=\"1\" class=\"dataframe\">\n",
              "  <thead>\n",
              "    <tr style=\"text-align: right;\">\n",
              "      <th></th>\n",
              "      <th>text</th>\n",
              "    </tr>\n",
              "  </thead>\n",
              "  <tbody>\n",
              "    <tr>\n",
              "      <th>0</th>\n",
              "      <td>auamat kesel bgt nonton tv isi pilkada stress ...</td>\n",
              "    </tr>\n",
              "  </tbody>\n",
              "</table>\n",
              "</div>"
            ],
            "text/plain": [
              "                                                text\n",
              "0  auamat kesel bgt nonton tv isi pilkada stress ..."
            ]
          },
          "metadata": {
            "tags": []
          },
          "execution_count": 87
        }
      ]
    },
    {
      "cell_type": "code",
      "metadata": {
        "id": "n5zdkk9Oq5Wc"
      },
      "source": [
        "tqdm.pandas()"
      ],
      "execution_count": 88,
      "outputs": []
    },
    {
      "cell_type": "code",
      "metadata": {
        "id": "FZUjDKEvZKf6",
        "colab": {
          "base_uri": "https://localhost:8080/",
          "height": 94
        },
        "outputId": "98f195c8-4b8a-416c-a5ad-05b43f936ea6"
      },
      "source": [
        "df['text'] = df.text.progress_apply(lambda x: clean_all(x, dict_clean=dict_clean))\r\n",
        "df"
      ],
      "execution_count": 89,
      "outputs": [
        {
          "output_type": "stream",
          "text": [
            "100%|██████████| 1/1 [00:00<00:00, 76.74it/s]\n"
          ],
          "name": "stderr"
        },
        {
          "output_type": "execute_result",
          "data": {
            "text/html": [
              "<div>\n",
              "<style scoped>\n",
              "    .dataframe tbody tr th:only-of-type {\n",
              "        vertical-align: middle;\n",
              "    }\n",
              "\n",
              "    .dataframe tbody tr th {\n",
              "        vertical-align: top;\n",
              "    }\n",
              "\n",
              "    .dataframe thead th {\n",
              "        text-align: right;\n",
              "    }\n",
              "</style>\n",
              "<table border=\"1\" class=\"dataframe\">\n",
              "  <thead>\n",
              "    <tr style=\"text-align: right;\">\n",
              "      <th></th>\n",
              "      <th>text</th>\n",
              "    </tr>\n",
              "  </thead>\n",
              "  <tbody>\n",
              "    <tr>\n",
              "      <th>0</th>\n",
              "      <td>auamat kesel banget nonton televisi ikatan sek...</td>\n",
              "    </tr>\n",
              "  </tbody>\n",
              "</table>\n",
              "</div>"
            ],
            "text/plain": [
              "                                                text\n",
              "0  auamat kesel banget nonton televisi ikatan sek..."
            ]
          },
          "metadata": {
            "tags": []
          },
          "execution_count": 89
        }
      ]
    },
    {
      "cell_type": "code",
      "metadata": {
        "colab": {
          "base_uri": "https://localhost:8080/"
        },
        "id": "xsZ2rqb364ZZ",
        "outputId": "71f40bfc-ac08-4697-b0dd-6a8b443d537f"
      },
      "source": [
        "clean_sentence = tfidf_vectorizer.transform(df['text'])\r\n",
        "clean_sentence.shape"
      ],
      "execution_count": 90,
      "outputs": [
        {
          "output_type": "execute_result",
          "data": {
            "text/plain": [
              "(1, 7080)"
            ]
          },
          "metadata": {
            "tags": []
          },
          "execution_count": 90
        }
      ]
    },
    {
      "cell_type": "code",
      "metadata": {
        "id": "Ubsx2PX_abwR",
        "colab": {
          "base_uri": "https://localhost:8080/"
        },
        "outputId": "aa6b84d9-f62e-4281-b644-57b68586d272"
      },
      "source": [
        "tst = model.predict(clean_sentence.toarray())\r\n",
        "print(\"probability : \", float(tst))\r\n",
        "# kel = model.predict_classes(clean_sentence.toarray())\r\n",
        "label_pred = 'Setuju' if np.round(tst[0]) else 'Tidak Setuju'\r\n",
        "print('predicted =',label_pred)"
      ],
      "execution_count": 96,
      "outputs": [
        {
          "output_type": "stream",
          "text": [
            "probability :  0.008405029773712158\n",
            "predicted = Tidak Setuju\n"
          ],
          "name": "stdout"
        }
      ]
    },
    {
      "cell_type": "code",
      "metadata": {
        "id": "SdF89bHecstI"
      },
      "source": [
        ""
      ],
      "execution_count": 91,
      "outputs": []
    }
  ]
}